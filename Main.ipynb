{
 "cells": [
  {
   "cell_type": "markdown",
   "metadata": {},
   "source": [
    "# import"
   ]
  },
  {
   "cell_type": "code",
   "execution_count": 1,
   "metadata": {},
   "outputs": [
    {
     "name": "stdout",
     "output_type": "stream",
     "text": [
      "importing Jupyter notebook from points.ipynb\n"
     ]
    }
   ],
   "source": [
    "import sys\n",
    "import os\n",
    "import import_ipynb\n",
    "import points\n",
    "import time\n",
    "import math\n",
    "import numpy as np\n",
    "import pickle as cPickle\n",
    "import scipy.cluster.hierarchy as H\n",
    "import scipy.spatial.distance as Dist\n",
    "import matplotlib.pyplot as plt"
   ]
  },
  {
   "cell_type": "code",
   "execution_count": 2,
   "metadata": {},
   "outputs": [],
   "source": [
    "sys.setrecursionlimit(10000000)\n",
    "\n",
    "dir = 'C:\\\\Users\\\\IBK\\\\Desktop\\\\\\DataMining\\\\Geolife Trajectories 1.3\\\\Data\\\\' # .plt 데이터 위치"
   ]
  },
  {
   "cell_type": "markdown",
   "metadata": {},
   "source": [
    "# -------------------------------------------------------------------------------------------------------"
   ]
  },
  {
   "cell_type": "markdown",
   "metadata": {},
   "source": [
    "# Point Class\n",
    "- Point와 StayPoint 클래스와 관련 메소드들이 있다.\n",
    "    - text 데이터 -> Point 객체\n",
    "    - point 끼리의 거리 구하기\n",
    "    - 각 plt 파일에서 staypoint들을 구해, 전체 plt 파일의 staypoint들을 구하기 (한 유저의 staypoint구하기)"
   ]
  },
  {
   "cell_type": "markdown",
   "metadata": {},
   "source": [
    "## Point 객체"
   ]
  },
  {
   "cell_type": "code",
   "execution_count": 3,
   "metadata": {},
   "outputs": [],
   "source": [
    "class Point:\n",
    "    def __init__(self): # 멤버변수 초기화\n",
    "        self.latitude = 0.0\n",
    "        self.longitude = 0.0\n",
    "        self.time = 0.0"
   ]
  },
  {
   "cell_type": "markdown",
   "metadata": {},
   "source": [
    "## StayPoint 객체"
   ]
  },
  {
   "cell_type": "code",
   "execution_count": 4,
   "metadata": {},
   "outputs": [],
   "source": [
    "class StayPoint:\n",
    "    def __init__(self):\n",
    "        self.latitude = 0.0\n",
    "        self.longitude = 0.0\n",
    "        self.arrivalTime = 0.0\n",
    "        self.leaveTime = 0.0"
   ]
  },
  {
   "cell_type": "markdown",
   "metadata": {},
   "source": [
    "## Staypoint 좌표 구하는 함수 "
   ]
  },
  {
   "cell_type": "code",
   "execution_count": 5,
   "metadata": {},
   "outputs": [],
   "source": [
    "def meanCoord(points):\n",
    "    latitudes = [0] * len(points)\n",
    "    longitudes = [0] * len(points)\n",
    "    for i in range(0, len(points)):\n",
    "        latitudes[i] = points[i].latitude\n",
    "        longitudes[i] = points[i].longitude\n",
    "\n",
    "    return np.mean(np.array(latitudes)), np.mean(np.array(longitudes))"
   ]
  },
  {
   "cell_type": "markdown",
   "metadata": {},
   "source": [
    "## point 데이터(text)를 Point객체로 만들어 넣어주는 함수(Param: point 데이터 값)."
   ]
  },
  {
   "cell_type": "code",
   "execution_count": 6,
   "metadata": {},
   "outputs": [],
   "source": [
    "def getPointViaString(line):\n",
    "    point = Point() #객체 생성\n",
    "\n",
    "    line_element = line.split(',') # text를 각 요소 text로 나눠줌\n",
    "    #그리고 각각을 객체 멤버변수에 넣어준다.\n",
    "    point.latitude = float(line_element[0])\n",
    "    point.longitude = float(line_element[1])\n",
    "    point.time = time.mktime(time.strptime(line_element[5] + line_element[6], '%Y-%m-%d%H:%M:%S'))\n",
    "\n",
    "    return point"
   ]
  },
  {
   "cell_type": "markdown",
   "metadata": {},
   "source": [
    "## point의 거리를 구하는 함수 (Param: point1, point2)"
   ]
  },
  {
   "cell_type": "code",
   "execution_count": 7,
   "metadata": {},
   "outputs": [],
   "source": [
    "def gpsDistance(pi, pj):\n",
    "    radLat1 = math.radians(pi.latitude)\n",
    "    radLat2 = math.radians(pj.latitude)\n",
    "    a = radLat1 - radLat2;\n",
    "    b = math.radians(pi.longitude) - math.radians(pj.longitude)\n",
    "\n",
    "    s = 2 * math.asin(math.sqrt(math.pow(math.sin(a/2), 2) +\n",
    "                                math.cos(radLat1) * math.cos(radLat2) * math.pow(math.sin(b/2), 2)))\n",
    "    EARTH_RADIUS = 6378137\n",
    "    s *= EARTH_RADIUS\n",
    "    # s = (s * 10000) / 10000\n",
    "    return s"
   ]
  },
  {
   "cell_type": "markdown",
   "metadata": {},
   "source": [
    "## StayPoint 를 추출하는 함수 ( Param: point들의 trajectory데이터, 거리,시간임계값)"
   ]
  },
  {
   "cell_type": "code",
   "execution_count": 8,
   "metadata": {},
   "outputs": [],
   "source": [
    "def getStayPoints(userTrajectories, DisThreh, TimeThreh):\n",
    "    listStayPoints = [] # 한 유저의 전체 PLT 파일에서 각각 추출한 Staypoint 들의 배열 변수\n",
    "\n",
    "\n",
    "    for traj in userTrajectories: # 한 유저의 전체 trajectory 데이터 안의 parsing된 points trajectory 데이터들을 반복\n",
    "        #traj : 여러개의 point set 들 = 각 plt파일 데이터\n",
    "        iteOuter = 0 # 기준이 될 point 카운트 변수\n",
    "        aPointList = [] # \n",
    "        while iteOuter < len(traj.trajectory): # plt파일에 있는 각 point 개수만큼 반복\n",
    "            # print iteOuter\n",
    "            iteInner = iteOuter + 1 # 다른 point 들과 비교하기위한 카운트 변수\n",
    "            while iteInner < len(traj.trajectory): # 기준 point 말고 다른 point들을 비교하기 위해 반복\n",
    "                if gpsDistance(traj.trajectory[iteOuter], traj.trajectory[iteInner]) < DisThreh: # 기준(iterOuter 번째) point 와 비교(iterInner번째) point 의 거리가 임계값을 넘지않고, \n",
    "                    if traj.trajectory[iteInner].time - traj.trajectory[iteOuter].time > TimeThreh: # 두개의 포인트 사이의 시간이 시간 임계값을 넘어가면,\n",
    "                        stayPoint = StayPoint() #기준점과 비교점사이의 point의 정보로 stayPoint 객체를 생성\n",
    "                        stayPoint.latitude, stayPoint.longitude = meanCoord(traj.trajectory[iteOuter:iteInner+1]) #staypoint 좌표구하는 함수\n",
    "                        stayPoint.arrivalTime = traj.trajectory[iteOuter].time #staypoint 시작 시간\n",
    "                        stayPoint.leaveTime = traj.trajectory[iteInner].time #staypoint 끝 시간\n",
    "                        aPointList.append(stayPoint) # aPointList 배열에 하나의 plt파일 데이터안에서 생긴 stayPoint들을 넣어준다.\n",
    "                        #print(stayPoint.arrivalTime ,\"//\",stayPoint.leaveTime)\n",
    "                    iteOuter = iteInner\n",
    "                    break\n",
    "                iteInner += 1\n",
    "            iteOuter = iteInner\n",
    "#         print(aPointList) #Staypoint 가 없는 plt 파일은 빈 요소가 들어가 있다. 빈상태로 [] aPointList 배열에 추가된다. \n",
    "        listStayPoints.append(aPointList) # 각 plt파일 데이터들에서 만들어진 aPointList 배열(하나의 plt파일에서 만들어진 stayPoint들) 을 넣어준다.\n",
    "#         print(len(listStayPoints)) # 각 plt의 개수가 나와야한다. 각 plt마다 staypoint들을 구했으므로\n",
    "        # listStayPoints = [listStayPoints, aPointList]\n",
    "\n",
    "    return listStayPoints"
   ]
  },
  {
   "cell_type": "markdown",
   "metadata": {},
   "source": [
    "# -------------------------------------------------------------------------------------------------------"
   ]
  },
  {
   "cell_type": "markdown",
   "metadata": {},
   "source": [
    "#  Trajectory Class\n",
    "- Trajectory 객체를 생성"
   ]
  },
  {
   "cell_type": "code",
   "execution_count": 9,
   "metadata": {},
   "outputs": [],
   "source": [
    "class UserTrajectory:\n",
    "    def __init__(self, uid, trajectory):\n",
    "        self.uid = uid\n",
    "        self.trajectory = trajectory"
   ]
  },
  {
   "cell_type": "markdown",
   "metadata": {},
   "source": [
    "## PLT 파일을 처리하기 쉬운 형태로 parsing 하는 함수(Param: plt 파일 경로)\n",
    "- plt 파일을 열고 데이터를 읽고 allTheText 변수에 다음 밑의 예시 형식으로 받아온다."
   ]
  },
  {
   "cell_type": "code",
   "execution_count": 10,
   "metadata": {},
   "outputs": [],
   "source": [
    "def parsePltFile(fileDir):\n",
    "    \n",
    "    file = open(fileDir) #plt 파일 열고 변수 저장\n",
    "    pointSet = [] # plt파일에 들어있는 point들이 들어갈 배열\n",
    "    try:\n",
    "        allTheText = file.read().split('\\n')[6:-1] #각 point의 정보가 배열로 들어간다.\n",
    "        '''\n",
    "        ['40.008304,116.319876,0,492,39745.0902662037,2008-10-24,02:09:59', \n",
    "        '40.008413,116.319962,0,491,39745.0903240741,2008-10-24,02:10:04']\n",
    "        이런식으로 데이터 뽑힘.\n",
    "        '''\n",
    "        \n",
    "        #print(allTheText)\n",
    "    finally:\n",
    "        file.close()\n",
    "    for iterText in range(0, len(allTheText)): # allTheText 배열의 요소길이만큼,\n",
    "        pointSet.append(getPointViaString(allTheText[iterText])) # poinSet배열에 배열 요소의 데이터를 추출해 각 Point객체로 만들어 넣어준다.\n",
    "    #print(pointSet)\n",
    "    #print(\"plt file parsing success!\")    \n",
    "        \n",
    "    return pointSet"
   ]
  },
  {
   "cell_type": "markdown",
   "metadata": {},
   "source": [
    "## GPS Log parsing 해서 Trajectory 데이터로 변환 함수 (Param : 해당 유저번호, 해당 유저 데이터 경로, 거리, 시간임계 값)"
   ]
  },
  {
   "cell_type": "code",
   "execution_count": 11,
   "metadata": {},
   "outputs": [],
   "source": [
    "def getTrajectory(uid, userDir, DisThreh, TimeThreh):\n",
    "    Trajectory = [] # 변환된 Trajectory 데이터를 넣을 배열 변수\n",
    "    pointSet = [] #\n",
    "    \n",
    "    # global Trajectory , userDir 안의 Trajectory 폴더가 있고, 그 안의 해당 유저의 모든 날짜의 대한 데이터들을 접근\n",
    "    userDir += \"\\\\Trajectory\\\\\" \n",
    "    fileDirs = os.listdir(userDir)\n",
    "        \n",
    "    lastFileLastLine = None\n",
    "    dir = 0 # Trajectroy 폴더안의 파일의 인덱스 \n",
    "    \n",
    "    if fileDirs != [] and len(fileDirs) > 0: #폴더 안에 데이터가 있으면,\n",
    "#         print(uid,\" 번 유저의 위치 데이터 폴더 접근 성공\")\n",
    "#         print(len(fileDirs))\n",
    "        while dir < len(fileDirs): #데이터 파일 개수만큼 반복\n",
    "#             print(uid,\"번 유저의\",dir,\"번 째 plt파일 접근 성공\")\n",
    "#             print(dir)\n",
    "            pointSet = parsePltFile(userDir + fileDirs[dir]) #Plt파일을 처리하기 쉬운 형태로 parsing 하는 함수\n",
    "            dir +=1\n",
    "# 이걸 왜해주는거지???            \n",
    "#             #마지막 plt 파일도 처리하기 쉬운 형태로 parsing 하기\n",
    "#             addFile = 1\n",
    "#             while True:  #and dir + addFile < len(fileDirs):\n",
    "#                 if dir + addFile >= len(fileDirs):\n",
    "#                     dir = dir + addFile\n",
    "#                     break\n",
    "#                 tmpFile = open(userDir + fileDirs[dir + addFile])\n",
    "# #                 print(tmpFile)\n",
    "#                 tmpPoint = getPointViaString(tmpFile.read().split('\\n')[6])\n",
    "#                 tmpFile.close()\n",
    "#                 if gpsDistance(pointSet[-1], tmpPoint) > DisThreh and tmpPoint.time - pointSet[\n",
    "#                     -1].time > TimeThreh:\n",
    "#                     dir = dir + addFile\n",
    "#                     break\n",
    "#                 pointSet += parsePltFile(userDir + fileDirs[dir + addFile])\n",
    "#                 # pointSet.append(parsePltFile(userDir + fileDirs[dir + addFile]))\n",
    "#                 addFile += 1\n",
    "            \n",
    "            Trajectory.append(UserTrajectory(uid, pointSet)) # 해당 유저의 parsing된 pointSet을 userid 를 참조해서 Trajectory 배열에 넣는다.\n",
    "#         print(pointSet)    \n",
    "            \n",
    "    return Trajectory # 각 유저의 Trajectory 데이터 "
   ]
  },
  {
   "cell_type": "markdown",
   "metadata": {},
   "source": [
    "## Location History Class\n",
    "- Location History 객체 생성"
   ]
  },
  {
   "cell_type": "code",
   "execution_count": 12,
   "metadata": {},
   "outputs": [],
   "source": [
    "class UserLocationHistory:\n",
    "    def __init__(self, uid, locationhistory):\n",
    "        self.uid = uid\n",
    "        self.locationhistory = locationhistory"
   ]
  },
  {
   "cell_type": "markdown",
   "metadata": {},
   "source": [
    "## Personal Location History 얻는 함수 ( Param : 유저번호, StayPoint들의 배열)\n",
    " - 각 유저의 staypoint들을 순서대로 배열로 이어준다."
   ]
  },
  {
   "cell_type": "code",
   "execution_count": 13,
   "metadata": {},
   "outputs": [],
   "source": [
    "def PersonalLocHis(uid, StayPointList): #staypoint들을 이은뒤 LocationHistory 객체로 만든다.\n",
    "    \n",
    "    PersonalUserLocationHistory = []\n",
    "    \n",
    "    for staypoints in StayPointList: #StayPointList = 한명의 유저의 StayPointList 배열\n",
    "        if staypoints != [] and len(staypoints) > 0: #staypoint들이 있는 plt파일들만 \n",
    "#             print(\"각 plt의 staypoints 개수:\", len(staypoints))\n",
    "            for i in range(0, len(staypoints)): # 각 plt 파일의 staypoints 들을\n",
    "                PersonalUserLocationHistory.append(staypoints[i]) #개인의 Location History의 배열에 넣어준다.\n",
    "#     print(PersonalUserLocationHistory)\n",
    "    personallocationhistory = UserLocationHistory(uid, PersonalUserLocationHistory)\n",
    "        \n",
    "    return personallocationhistory #각 유저이 location history\n",
    "    \n",
    "    "
   ]
  },
  {
   "cell_type": "markdown",
   "metadata": {},
   "source": [
    "## Location History 얻는 함수 ( 매개변수 : 데이터 경로, 거리, 시간 임계값)\n",
    " - 각 유저의 GPS Log 를 Trajectory 로 파싱한다.\n",
    " - 파싱한 Trajectory 에서 Staypoint 를 추출한다.\n",
    " - 각 유저의 StayPoint 를 하나의 SP 배열에 모두 넣는다. SP배열의 크기는 유저의 수\n",
    " - 각 유저의 StayPoint 들을 이어서 Location History를 만든다.\n",
    " - 개인의 Location History 배열들을 전체 TotalLocation History로 만들어 하나의 객체로 만든다."
   ]
  },
  {
   "cell_type": "code",
   "execution_count": 14,
   "metadata": {},
   "outputs": [],
   "source": [
    "def getLocationHistory(DataDir, DisThreh, TimeThreh):\n",
    "    fileDirs = os.listdir(DataDir) #DataDir 폴더안의 폴더 목록\n",
    "    TotalLocationHistory = [] #Location History가 담길 배열\n",
    "    SP = [] # 모든 유저들의 staypoints 배열의 배열\n",
    "    if fileDirs != [] and len(fileDirs) > 0:\n",
    "        print(\"해당 폴더안의 읽을 폴더들어 있습니다.\")\n",
    "        for uid in range(0, len(fileDirs)): #uid: fileDirs목록의 폴더인덱스 = 유저 인덱스  \n",
    "            print (DataDir + fileDirs[uid] , \"읽기\")\n",
    "            #Traj : 각각 유저의 전체 Trajectory 데이터\n",
    "            Traj = getTrajectory(uid, DataDir + fileDirs[uid], DisThreh, TimeThreh) # GPS Log parsing 해서 Trajectory 데이터로 변환 함수\n",
    "            print(\"GPS LOG -> Trajectory success!\")\n",
    "            S = getStayPoints(Traj, DisThreh, TimeThreh) # 각 plt파일의 Trajectory 로 부터 Staypoint들을 추출해 Stayppoints 배열을 만든다. staypoint가 없는 plt파일의 staypoints는 빈칸이다.\n",
    "            print(\"Trajectory -> Staypoints success!\")\n",
    "            #지금 까지는 각 유저들의 정보를 구했다. 구한 정보를 합쳐 준다.\n",
    "            SP.append(S) # 각 유저의 staypoint배열을 합쳐준다.\n",
    "            print(uid , \"번째 유저의 staypoint 합치기 success!\")\n",
    "            #print(S)\n",
    "            # 각 유저의 staypoint배열(중복되는 staypoint가 있을수도 있음)을 시간대로 긴 하나의 staypoint history로 만들어야한다.\n",
    "            LocationHistory = PersonalLocHis(uid, S)  #각 유저의 locationhistory 데이터를 모은 객체를 생성\n",
    "            TotalLocationHistory.append(LocationHistory) # 각 lcation history 객체를 전체 locationhistory 배열에 합쳐준다.\n",
    "            print(TotalLocationHistory)\n",
    "            print(uid , \"번째 유저의 location history 합치기 success!\")\n",
    "             \n",
    "#         print(SP) #SP 배열의 크기는 유저의 수이다. 유저 수만큼 유저들의 staypoint배열이 생기기 떄문\n",
    "            \n",
    "            \n",
    "          \n",
    "    return TotalLocationHistory , SP"
   ]
  },
  {
   "cell_type": "markdown",
   "metadata": {},
   "source": [
    "# -------------------------------------------------------------------------------------------------------"
   ]
  },
  {
   "cell_type": "markdown",
   "metadata": {},
   "source": [
    "# TBHG Class "
   ]
  },
  {
   "cell_type": "markdown",
   "metadata": {},
   "source": [
    "## TreeNode 객체\n",
    "### - TreeNode 객체인 기준 노드의 멤버변수인 SplitPoint를 초기화해주는 함수(param: 나누는 point 번호) \n",
    "    - 완전 처음에는 -1 부터 시작"
   ]
  },
  {
   "cell_type": "code",
   "execution_count": 15,
   "metadata": {},
   "outputs": [],
   "source": [
    "class TreeNode(object): \n",
    "    def __init__(self, points, start, end, parentNode): # RPoints(order순서의 staypoint좌표), 0, len(RPoints), None(부모노드)\n",
    "        self.points = points \n",
    "        self.start = start\n",
    "        self.end = end\n",
    "        self.parentNode = parentNode\n",
    "        self.children = []\n",
    "        self.splitpoint = -1\n",
    "        self.neighbor = []\n",
    "    #def __str__(self):\n",
    "    #    return \"start: %d, end %d, split: %d\" % (self.start, self.end, self.splitpoint)\n",
    "    \n",
    "    def assignSplitPoint(self, splitpoint):\n",
    "        self.splitpoint = splitpoint\n",
    "        \n",
    "    def addChild(self, child):\n",
    "        self.children.append(child)"
   ]
  },
  {
   "cell_type": "markdown",
   "metadata": {},
   "source": [
    "## OPTICS 알고리즘 함수 (Param: 좌표 배열, 군집 개수)"
   ]
  },
  {
   "cell_type": "code",
   "execution_count": 16,
   "metadata": {},
   "outputs": [],
   "source": [
    "def optics(x, k, distMethod='euclidean'):\n",
    "#     x.shape = (x의 개수, x의 크기 ) , len(x.shape) = x의 크기 . 거의 2(위도,경도)\n",
    "    if len(x.shape) > 1:\n",
    "        m, n = x.shape # m  = x의개수, n = x의 크기 // 대부분 x으 크기가 2므로 , 이 조건이 적용됨.\n",
    "        \n",
    "    else:\n",
    "        m = x.shape[0]\n",
    "        n = 1\n",
    "    \n",
    "    try:\n",
    "        D = Dist.squareform(Dist.pdist(x, distMethod))\n",
    "        distOK = True\n",
    "    except:\n",
    "        print(\"squareform or pdist error\")\n",
    "        distOK = False\n",
    "\n",
    "    CD = np.zeros(m) # core distance : m 개수만큼 0 으로 이루어진 배열 만들기.\n",
    "    RD = np.ones(m) * 1E10 # reachable distance : m개수만큼 1E10으로 이루어진 배열 만들기\n",
    "    \n",
    "    for i in range(m):\n",
    "        #again you can use the euclid function if you don't want hcluster\n",
    "#        d = euclid(x[i],x)\n",
    "#        d.sort()\n",
    "#        CD[i] = d[k]\n",
    "\n",
    "        tempInd = D[i].argsort()\n",
    "        tempD = D[i][tempInd]\n",
    "#        tempD.sort() #we don't use this function as it changes the reference\n",
    "        CD[i] = tempD[k]#**2\n",
    "\n",
    "\n",
    "    order = []\n",
    "    seeds = np.arange(m, dtype = np.int)\n",
    "\n",
    "    ind = 0\n",
    "    \n",
    "    while len(seeds) != 1:\n",
    "#    for seed in seeds:\n",
    "        ob = seeds[ind]\n",
    "        seedInd = np.where(seeds != ob)\n",
    "        seeds = seeds[seedInd]\n",
    "\n",
    "        order.append(ob)\n",
    "        tempX = np.ones(len(seeds))*CD[ob]\n",
    "        tempD = D[ob][seeds]#[seeds]\n",
    "        #you can use this function if you don't want to use hcluster\n",
    "        #tempD = euclid(x[ob],x[seeds])\n",
    "\n",
    "        temp = np.column_stack((tempX, tempD))\n",
    "        mm = np.max(temp, axis = 1)\n",
    "        ii = np.where(RD[seeds]>mm)[0]\n",
    "        RD[seeds[ii]] = mm[ii]\n",
    "        ind = np.argmin(RD[seeds])\n",
    "        #print(len(seeds))\n",
    "\n",
    "\n",
    "    order.append(seeds[0])\n",
    "    RD[0] = 0 #we set this point to 0 as it does not get overwritten\n",
    "    print(\"OPTICS 알고리즘 적용 success!\")\n",
    "    return RD, CD, order\n"
   ]
  },
  {
   "cell_type": "markdown",
   "metadata": {},
   "source": [
    "## Local Maxima 가 맞는지 확인하는 함수"
   ]
  },
  {
   "cell_type": "code",
   "execution_count": 17,
   "metadata": {},
   "outputs": [],
   "source": [
    "def isLocalMaxima(index, RPlot, RPoints, nghsize):\n",
    "    # 0 = point at index is not local maxima\n",
    "    # 1 = point at index is local maxima\n",
    "\n",
    "    for i in range(1, nghsize + 1):\n",
    "        # process objects to the right of index\n",
    "        if index + i < len(RPlot):\n",
    "            if (RPlot[index] < RPlot[index + i]):\n",
    "                return 0\n",
    "\n",
    "        # process objects to the left of index\n",
    "        if index - i >= 0:\n",
    "            if (RPlot[index] < RPlot[index - i]):\n",
    "                return 0\n",
    "\n",
    "    return 1"
   ]
  },
  {
   "cell_type": "markdown",
   "metadata": {},
   "source": [
    "## Local Maxima 가 되는 Point를 찾는함수 (param : order순서, order순서의 좌표값, 이웃 point 크기)\n",
    "- 찾는 이유 : reachability distance 가 높은 부분을 찾기 위해서\n",
    "- Local Maxima Point의 정렬 순서인 숫자 배열을 리턴한다. 그 숫자를 가지고 RPoints에서 좌표값을 해당 좌표값을 찾거나, RPlot에서 RD를 참조할수 있다."
   ]
  },
  {
   "cell_type": "code",
   "execution_count": 18,
   "metadata": {},
   "outputs": [],
   "source": [
    "def findLocalMaxima(RPlot, RPoints, nghsize):\n",
    "    localMaximaPoints = {} # LocalMaximum 이 되는 포인터 {} 딕셔너리는 선언하고 초기화. 즉, 그 안의 속성에 접근하기 위해 사용\n",
    "\n",
    "    # 1st and last points on Reachability Plot are not taken as local maxima points\n",
    "    for i in range(1, len(RPoints) - 1):\n",
    "        # if the point is a local maxima on the reachability plot with\n",
    "        # regard to nghsize, insert it into priority queue and maxima list\n",
    "        if RPlot[i] > RPlot[i - 1] and RPlot[i] >= RPlot[i + 1] and isLocalMaxima(i, RPlot, RPoints, nghsize) == 1:\n",
    "            localMaximaPoints[i] = RPlot[i]\n",
    "\n",
    "    return sorted(localMaximaPoints, key=localMaximaPoints.__getitem__, reverse=True)"
   ]
  },
  {
   "cell_type": "markdown",
   "metadata": {},
   "source": [
    "## order 순서의 staypoint 좌표배열 정보가 들어간 rootNode로부터 계층적 Tree 만드는 함수(param: rootNode, 부모노드(초기에는 없음), localMaximaPoints, order, order순서의 좌표, min_cluster_size)"
   ]
  },
  {
   "cell_type": "code",
   "execution_count": 19,
   "metadata": {},
   "outputs": [],
   "source": [
    "def clusterTree(node, parentNode, localMaximaPoints, RPlot, RPoints, min_cluster_size):\n",
    "    # node is a node or the root of the tree in the first call\n",
    "    # parentNode is parent node of N or None if node is root of the tree\n",
    "    # localMaximaPoints is list of local maxima points sorted in descending order of reachability \n",
    "    if len(localMaximaPoints) == 0: #localMaima 가 없는건, clsuter될 노드가 없는 거이므로 rootnode가 leaf 이게 되겠지.\n",
    "        return  # parentNode is a leaf\n",
    "    \n",
    "    # take largest local maximum as possible separation between clusters 일단 맨처음으로 가장 큰 lcalMaximaPoints 찾아서 clustering기준으로 한다.\n",
    "    s = localMaximaPoints[0]\n",
    "    #print(RPlot[s] , RPoints[s]) #해당 RD 와  좌표값\n",
    "    \n",
    "    node.assignSplitPoint(s) #  가장 RD가 높은 point(= s 숫자)를 기준 TreeNode 객체 node의 멤버변수인 SplitPoint(숫자)로 초기화 해준다.\n",
    "#     print(node.points)\n",
    "#     print(node.start)\n",
    "#     print(node.end)\n",
    "#     print(node.parentNode)\n",
    "#     print(node.splitpoint)\n",
    "    localMaximaPoints = localMaximaPoints[1:] # 초기화한 SplitPoint 는 제외한다.\n",
    "    #print(localMaximaPoints)\n",
    "  \n",
    "    # create two new nodes and add to list of nodes \n",
    "    # Splitpoint (s)를 기준으로 나눠지는 두개의 TreeNode 객체 생성 (s는 두개의 노드에 포함되지 않는다.)\n",
    "    Node1 = TreeNode(RPoints[node.start:s], node.start, s, node) #s번째 point는 포함하지 않는다.\n",
    "    Node2 = TreeNode(RPoints[s + 1:node.end], s + 1, node.end, node) #node.end번째 point는 포함하지않는다.\n",
    "#     print(len(Node1.points), Node1.start, Node1.end)\n",
    "#     print()\n",
    "#     print(len(Node2.points), Node2.start, Node2.end) # ex) start=375 ,end=389 면 14개의 값이 들어있다. 15개 아님x\n",
    "    \n",
    "    #위의 2개의 TreeNode 객체 point범위안의 localMaximapoint들을 다시 정렬해야한다.\n",
    "    LocalMax1 = [] \n",
    "    LocalMax2 = []\n",
    "\n",
    "    for i in localMaximaPoints:\n",
    "        if i < s:\n",
    "            LocalMax1.append(i)\n",
    "        if i > s:\n",
    "            LocalMax2.append(i)\n",
    "#     print(LocalMax1)\n",
    "#     print(LocalMax2)\n",
    "    \n",
    "    Nodelist = [] #Nodelist에 나눠진 2개의 TreeNode객체와 그 범위안의 LocalMaximapoint들을 넣어준다.\n",
    "    Nodelist.append((Node1, LocalMax1))\n",
    "    Nodelist.append((Node2, LocalMax2))\n",
    "    \n",
    "    # set a lower threshold on how small a significant maxima can be\n",
    "    significantMin = .003\n",
    "    #print(RPlot[s])\n",
    "    if RPlot[s] < significantMin: # 만약 가장큰 RD가 .003보다 작으면 그 staypoint노드의 SplitPoint를 -1로 한다.\n",
    "#         print(\"RD가 너무작아요\")\n",
    "        node.assignSplitPoint(-1)\n",
    "        # if splitpoint is not significant, ignore this split and continue\n",
    "        clusterTree(node, parentNode, localMaximaPoints, RPlot, RPoints, min_cluster_size)\n",
    "        return\n",
    "    \n",
    "    #아래 코드들은 모두 군집을 조절하는것\n",
    "    # only check a certain ratio of points in the child nodes formed to the left and right of the maxima\n",
    "    checkRatio = .8\n",
    "    checkValue1 = int(np.round(checkRatio * len(Node1.points)))\n",
    "    checkValue2 = int(np.round(checkRatio * len(Node2.points)))\n",
    "    if checkValue2 == 0:\n",
    "        checkValue2 = 1\n",
    "    avgReachValue1 = float(np.average(RPlot[(Node1.end - checkValue1):Node1.end]))\n",
    "    avgReachValue2 = float(np.average(RPlot[Node2.start:(Node2.start + checkValue2)]))\n",
    "\n",
    "    '''\n",
    "    To adjust the fineness of the clustering, adjust the following ratios.\n",
    "    The higher the ratio, the more generous the algorithm is to preserving\n",
    "    local minimums, and the more cuts the resulting tree will have.\n",
    "    '''\n",
    "\n",
    "    # the maximum ratio we allow of average height of clusters on the right and left to the local maxima in question\n",
    "    maximaRatio = .5\n",
    "\n",
    "    # if ratio above exceeds maximaRatio, find which of the clusters to the left and right to reject based on rejectionRatio\n",
    "    rejectionRatio = .35\n",
    "\n",
    "    if float(avgReachValue1 / float(RPlot[s])) > maximaRatio or float(avgReachValue2 / float(RPlot[s])) > maximaRatio:\n",
    "\n",
    "        if float(avgReachValue1 / float(RPlot[s])) < rejectionRatio:\n",
    "#             print(\"reject node 2\")\n",
    "            Nodelist.remove((Node2, LocalMax2))\n",
    "        if float(avgReachValue2 / float(RPlot[s])) < rejectionRatio:\n",
    "#             print(\"reject node 1\")\n",
    "            Nodelist.remove((Node1, LocalMax1))\n",
    "        if float(avgReachValue1 / float(RPlot[s])) >= rejectionRatio and float(\n",
    "                avgReachValue2 / float(RPlot[s])) >= rejectionRatio:\n",
    "            node.assignSplitPoint(-1)\n",
    "#             print(\"since splitpoint is not significant, ignore this split and continue (reject both child nodes)\")\n",
    "            clusterTree(node, parentNode, localMaximaPoints, RPlot, RPoints, min_cluster_size)\n",
    "            return\n",
    "\n",
    "    # remove clusters that are too small\n",
    "    if len(Node1.points) < min_cluster_size:\n",
    "#         print(\"cluster 1 is too small\")\n",
    "        try:\n",
    "            Nodelist.remove((Node1, LocalMax1))\n",
    "        except Exception:\n",
    "            pass\n",
    "    if len(Node2.points) < min_cluster_size:\n",
    "#         print(\"cluster 2 is too small\")\n",
    "        try:\n",
    "            Nodelist.remove((Node2, LocalMax2))\n",
    "        except Exception:\n",
    "            pass\n",
    "    if len(Nodelist) == 0:\n",
    "#         print(\"parentNode will be a leaf\")\n",
    "        node.assignSplitPoint(-1)\n",
    "        return\n",
    "\n",
    "    '''\n",
    "    Check if nodes can be moved up one level - the new cluster created\n",
    "    is too \"similar\" to its parent, given the similarity threshold.\n",
    "    Similarity can be determined by 1)the size of the new cluster relative\n",
    "    to the size of the parent node or 2)the average of the reachability\n",
    "    values of the new cluster relative to the average of the\n",
    "    reachability values of the parent node\n",
    "    A lower value for the similarity threshold means less levels in the tree.\n",
    "    '''\n",
    "    # 부모 노드 설정하고 조절\n",
    "    similaritythreshold = 0.4\n",
    "    bypassNode = 0\n",
    "    #print(parentNode)\n",
    "    if parentNode != None:\n",
    "        sumRP =np.average(RPlot[node.start:node.end])\n",
    "        sumParent = np.average(RPlot[parentNode.start:parentNode.end])\n",
    "        if float(float(node.end - node.start) / float(parentNode.end - parentNode.start)) > similaritythreshold:  # 1)\n",
    "            # if float(float(sumRP) / float(sumParent)) > similaritythreshold: #2)\n",
    "            parentNode.children.remove(node)\n",
    "            bypassNode = 1\n",
    "#     print(Nodelist)\n",
    "    for nl in Nodelist:\n",
    "#         print(\"각노드리스트 범위안의 staypoint 좌표\")\n",
    "#         print(nl[0].points)\n",
    "        if bypassNode == 1: # 부모노드가 있으면 부모노드에 자식노드 초기화\n",
    "            parentNode.addChild(nl[0]) #\n",
    "#             print(\"부모노드가 있을때, 자식노드 :\" ,parentNode.children)\n",
    "#             print(\"부모노드가 있을때, 부모노드 :\", parentNode)\n",
    "            clusterTree(nl[0], parentNode, nl[1], RPlot, RPoints, min_cluster_size)\n",
    "        else:\n",
    "            node.addChild(nl[0]) #부모노드가 없으면 지금노드에 자식노드 초기화 \n",
    "#             print(\"부모노드가 없을때 자식노드 : \", node.children) \n",
    "#             print(\"부모노드가 없을때, 부모노드 : \", parentNode) \n",
    "            clusterTree(nl[0], node, nl[1], RPlot, RPoints, min_cluster_size)\n",
    "\n"
   ]
  },
  {
   "cell_type": "markdown",
   "metadata": {},
   "source": [
    "## automaticCluster 함수(Param : order 배열, order 순서의 좌표 값)\n",
    "- 구한 RPlot, Rpoints 값으로 계층적 구조를 만드는 함수"
   ]
  },
  {
   "cell_type": "code",
   "execution_count": 20,
   "metadata": {},
   "outputs": [],
   "source": [
    "def automaticCluster(RPlot, RPoints):\n",
    "    min_cluster_size_ratio = .005\n",
    "    min_neighborhood_size = 2\n",
    "    min_maxima_ratio = 0.001\n",
    "     \n",
    "    min_cluster_size = int(min_cluster_size_ratio * len(RPoints)) # staypoint 개수 * min_cluser_size_ratio \n",
    "    #print(min_cluster_size)\n",
    "    if min_cluster_size < 5: # 최소 클러스터 size가 5를 안넘으면 기본값 을 5로 \n",
    "        min_cluster_size = 5\n",
    "\n",
    "    nghsize = int(min_maxima_ratio * len(RPoints)) # staypoint 개수 * min_maxima_ratio\n",
    "    \n",
    "    if nghsize < min_neighborhood_size: # 이웃 point의 크기가 2를 넘지않으면 기본값을 2로\n",
    "        nghsize = min_neighborhood_size\n",
    "    #print(nghsize)\n",
    "    localMaximaPoints = findLocalMaxima(RPlot, RPoints, nghsize) # LocalMaxima가 되는 order순서의 point 찾기\n",
    "    #print(localMaximaPoints)\n",
    "    rootNode = TreeNode(RPoints, 0, len(RPoints), None) # 계층구조가 될 Tree 객체 생성 //rootNode에는 order 순서의 좌표값들과 0~Staypoint 순서의 정보가 들어간다.\n",
    "    #print(rootNode.points) \n",
    "    \n",
    "    clusterTree(rootNode, None, localMaximaPoints, RPlot, RPoints, min_cluster_size) #노드들을 서로 부모노드, 자식노드로 이어준다.\n",
    "\n",
    "    return rootNode #자식노드를 연결하고 각 자식노드들에게 부모노드를 설정해주고, 리턴\n"
   ]
  },
  {
   "cell_type": "markdown",
   "metadata": {},
   "source": [
    "## plot그래프에 들어갈 Node들을 보여주는 함수(param:루트노드, )"
   ]
  },
  {
   "cell_type": "code",
   "execution_count": 21,
   "metadata": {},
   "outputs": [],
   "source": [
    "def graphNode(node, num, ax):\n",
    "    ax.hlines(num, node.start, node.end, color=\"red\") # y축 num 값에다가 기준노드의 시작노드부터 끝노드까지 빨간색 수평선을 어라.\n",
    "    for item in node.children: # 그노드의 자식노드를 반복하면서\n",
    "        graphNode(item, num - .4, ax) # 조금 밑에다가 빨간선을 그린다."
   ]
  },
  {
   "cell_type": "markdown",
   "metadata": {},
   "source": [
    "## Tree를 plot그래프로 보여주는 함수(param: 루트노드, RD 배열)"
   ]
  },
  {
   "cell_type": "code",
   "execution_count": 22,
   "metadata": {},
   "outputs": [],
   "source": [
    "def graphTree(root, RPlot):\n",
    "    fig = plt.figure()\n",
    "   \n",
    "    ax = fig.add_subplot(111) #1x1그리드에 첫 번째 subplot. plot화면에 들어갈 부품이라고 생각하자..\n",
    "    \n",
    "    a1 = [i for i in range(len(RPlot))] # staypoint 개수크기의 1차원 배열 만들기. ex) [0,1,2,3,4,5.....]\n",
    "#     print(a1)\n",
    "    ax.vlines(a1, 0, RPlot) #세로선\n",
    "    \n",
    "    plt.xlabel('Order of points')\n",
    "    plt.ylabel('Reachability-distance')\n",
    "\n",
    "    num = 2\n",
    "    graphNode(root, num, ax) #plot 그래프에 들어갈 Node들을 보여주는 함수\n",
    "\n",
    "    plt.savefig('RPlot.png', dpi=None, facecolor='w', edgecolor='w',\n",
    "                orientation='portrait', papertype=None, format=None,\n",
    "                transparent=False, bbox_inches=None, pad_inches=0.1)\n",
    "    plt.show()"
   ]
  },
  {
   "cell_type": "markdown",
   "metadata": {},
   "source": [
    "## Hierarchical Clustering 함수 (Param : StayPointList)\n",
    "- staypoint들의 위도,경도만 추출한 뒤 optics알고리즘 적용"
   ]
  },
  {
   "cell_type": "code",
   "execution_count": 23,
   "metadata": {},
   "outputs": [],
   "source": [
    "def HierarchicalClustering(SP):\n",
    "    #HierarchicalClustering(SP)\n",
    "    #LocHistory = cPickle.load(open('LocHistory.pkl', 'rb'))\n",
    "    count =0 #전체 staypoint 개수가 들어갈 변수\n",
    "    \n",
    "    for S in SP: #(SP =전체 유저)에서 (S=각 유저 StayPoint 배열)을 반복\n",
    "#         print(\"각 유저\")\n",
    "         for s in S: #StayPoint 배열안의 (s=하나의 pkl파일의 staypoint 배열)을 반복\n",
    "            if s != [] and len(s) > 0: # staypoint배열이 있는 pkl 파일만 \n",
    "#                 print(len(s))\n",
    "                for i in range(0,len(s)): # staypoint 들을 이제 위도,경도만 추출해야하지. 총 staypoint 개수를 구해서 그 개수만큼 배열을 만든 다음 넣어줘라.\n",
    "#                     print(s[i].latitude, s[i].longitude )\n",
    "                    count+=1\n",
    "    \n",
    "    print(\"전체 유저의 staypoint 개수\", count) #전체 유저의 staypoint 개수\n",
    "    stayPointMatrix = np.zeros((count, 2)) #빈 공간의 위도,경도만 추출할 staypoint 좌표 배열 만들기\n",
    "    iterPoint = 0 # staypoint 좌표 배열 인덱스\n",
    "    \n",
    "    for S in SP: #(SP =전체 유저)에서 (S=각 유저 StayPoint 배열)을 반복\n",
    "        \n",
    "        for s in S: #StayPoint 배열안의 (s=하나의 pkl파일의 staypoint 배열)을 반복\n",
    "            if s != [] and len(s) > 0: # staypoint배열이 있는 pkl 파일만 \n",
    "\n",
    "                for i in range(0,len(s)): # staypoint 들을 이제 위도,경도만 추출해야하지. 총 staypoint 개수를 구해서 그 개수만큼 배열을 만든 다음 넣어줘라.\n",
    "                    if iterPoint < count:\n",
    "                        stayPointMatrix[iterPoint] = [s[i].latitude, s[i].longitude]\n",
    "                        iterPoint+=1\n",
    "#     print(stayPointMatrix)\n",
    "    print(\"전체 유저의 총 staypoint matrix 생성 success!\")\n",
    "\n",
    "    RD, CD, order = optics(stayPointMatrix, 9) # hierarchical clustering 함수\n",
    "    \n",
    "    # cPickle.dump([RD, CD, order], open('opticsResult.pkl', 'wb'))\n",
    "\n",
    "    RPlot = []\n",
    "    RPoints = []\n",
    "\n",
    "    for item in order: #order(클러스터링 순서) 를 순회하면서\n",
    "        #print(item)\n",
    "        RPlot.append(RD[item]) #Reachability Plot : Reachability Distance 를 order 순서대로 넣는다.\n",
    "        RPoints.append([stayPointMatrix[item][0], stayPointMatrix[item][1]]) #points in their order determined by OPTICS , order순서대로 (좌표)위도,경도를 넣는다.\n",
    "#         print([stayPointMatrix[item][0], stayPointMatrix[item][1]])\n",
    "    #hierarchically cluster the data\n",
    "    \n",
    "    rootNode = automaticCluster(RPlot, RPoints) #구한 RPlot, Rpoints 값으로 계층적 구조를 만드는 함수. rootNode는 맨 처음 순서의 노드와 그 자식노드의 정보가 들어있다.\n",
    "    print(\"Root Node에 자식,부모 멤버변수 설정 success!\")\n",
    "#     print(rootNode.points)\n",
    "    \n",
    "    graphTree(rootNode, RPlot) # rootNode를 이용해서 Tree 그래프를 보여주는 함수\n",
    "    \n",
    "    return rootNode"
   ]
  },
  {
   "cell_type": "markdown",
   "metadata": {},
   "source": [
    "# --------------------------------------------------------------------------------------------------"
   ]
  },
  {
   "cell_type": "markdown",
   "metadata": {},
   "source": [
    "## Graph Class"
   ]
  },
  {
   "cell_type": "code",
   "execution_count": 24,
   "metadata": {},
   "outputs": [],
   "source": [
    "class perLevelGraph(object): \n",
    "    def __init__(self): # \n",
    "        self.cluster = 0\n",
    "        self.edge = {} #간선의 구조를 해당노드:[연결된 노드,카운트]\n",
    "        \n",
    "    # 간선을 이어주는 함수( 현재노드, 이어질 노드)\n",
    "    \n",
    "    count =1\n",
    "    iter=0\n",
    "    def addEdge(self,node,neighbour):\n",
    "        if node not in self.edge:\n",
    "            self.edge[node]=[neighbour]\n",
    "#             self.edge[node]['connectcount']=1\n",
    "           \n",
    "        else:\n",
    "            self.edge[node].append(neighbour)\n",
    "#             if neighbour not in self.edge[node]: #이미 안에 중복인 연결이 있으면 하지 않기 . 클러스터->클러스터 count를 해야하면, 여기서 하기\n",
    "#                 self.edge[node].append(neighbour)\n",
    "            \n",
    "            #중복을 제거하지말고 그냥 다 받자."
   ]
  },
  {
   "cell_type": "markdown",
   "metadata": {},
   "source": [
    "## 각 레벨의 graph에 있는 cluster들을 각 유저의 LocationHistory를 보면서, edge를 연결해주는 GraphBuilding 함수 (Param: 해당 레벨의 그래프, 각 유저의 Loch, 모든 유저의 크기, 유저번호)"
   ]
  },
  {
   "cell_type": "code",
   "execution_count": 25,
   "metadata": {},
   "outputs": [],
   "source": [
    "def GraphBuilding(graph, loch, usersize, uid):  \n",
    "#     print(graph.cluster) #Treenode객체 : points, start, end, parentNode, children, splitpoint <기준>\n",
    "    #print(graph.cluster[0])\n",
    "#     print(loch.locationhistory) #Locationhistory 객체 안의 staypoint 객체 : latitude, longitude, 시작시간, 끝시간\n",
    "    \n",
    "#     for cluster in graph.cluster: #각각의 클러스터가 \n",
    "#         print(\"클러스터\")\n",
    "#         print(cluster.points,\"/\",cluster.start ,\"/\", cluster.end)\n",
    "#     print(len(loch.locationhistory))\n",
    "    \n",
    "#     graph.edge = { } #graph의 간선 dictionary를 만든다.\n",
    "    prev_num=-1 #이전 Staypoint객체의 클러스터 넘버\n",
    "    \n",
    "    usercountCtoC= np.zeros((len(graph.cluster),len(graph.cluster)))\n",
    "    \n",
    "    for staypoint in loch.locationhistory: #해당 유저의 locationhistory의 staypoint 객체들 반복\n",
    "#         print(\"staypoint\")\n",
    "#         print([staypoint.latitude, staypoint.longitude])\n",
    "        num=-1\n",
    "#         print(\"이전 prev_num\", prev_num)\n",
    "        for i in range(len(graph.cluster)): #grpah의 클러스터를 반복하면서  \n",
    "                if [staypoint.latitude, staypoint.longitude] in graph.cluster[i].points: #몇번쨰 클러스터에 있는지 확인\n",
    "                    num = i\n",
    "                    #여기서 매트릭스만들 정보를 캐야할듯. 근데  이함수는 uid매개변수가 없으므로, 어떤유저가  어떤 num클러스터\n",
    "                    #를 방문했는지 구하기 힘듬.\n",
    "        if num == -1:\n",
    "#             print(\"Staypoint가 클러스터에 없음\")\n",
    "            prev_num = -1\n",
    "        else:\n",
    "#             print(\"Staypoint가 \", num ,\" 번쨰 클러스터에 있음\")\n",
    "            if prev_num == -1 or prev_num == num : #이전 staypoint객체의 클러스터가 없거나, 같은 클러스터면\n",
    "#                 print(\"무시\")\n",
    "                prev_num = num\n",
    "                \n",
    "            else :#이전 클러스터와 연속되는 다른 클러스터면 \n",
    "                #해당 prevnum의 클러스터객체 ----edge---> num의 클러스터 객체 구조체를 만들어준다.\n",
    "#                 print(\"간선연결\")\n",
    "                graph.addEdge(graph.cluster[prev_num],graph.cluster[num]) #지금은 중복되는 클러스터->클러스터는 포함안함. count해야하면 수정해야함\n",
    "                #여기에서 어떤 유저가 노드->노드 카운트\n",
    "                usercountCtoC[prev_num][num]+=1\n",
    "                \n",
    "                prev_num = num\n",
    "                \n",
    "    #print(graph.edge) #간선 데이터 \n",
    "#     print(usercountCtoC)\n",
    "    return graph , usercountCtoC"
   ]
  },
  {
   "cell_type": "markdown",
   "metadata": {},
   "source": [
    "# ----------------------------------------------------------------------------------------------------"
   ]
  },
  {
   "cell_type": "markdown",
   "metadata": {},
   "source": [
    "# Location Interest Inference class"
   ]
  },
  {
   "cell_type": "markdown",
   "metadata": {},
   "source": [
    "## cij 클러스터 노드의 x레벨(하위레벨)딴의 속해있는 클러스터노드 찾는 LocationCollecting 함수 "
   ]
  },
  {
   "cell_type": "code",
   "execution_count": 26,
   "metadata": {},
   "outputs": [],
   "source": [
    "def LocationCollecting(x, cij, H): #해당 cij Treenode 객체의 Children을 요구하는 레벨x에 대해서각각 append하면되지않을까\n",
    "    childList = []\n",
    "    #cij의 level 찾기\n",
    "    for level in range(0,len(H)):\n",
    "        #print(level)\n",
    "        if cij in H[level]:\n",
    "#             print(level ,\"여기있어\")\n",
    "            count= x-level # 해당노드에서 특정 레벨까지의 degree\n",
    "            break\n",
    "#     print(\"count 값:\", count)\n",
    "    \n",
    "    \n",
    "#     for childnode in cij.child:\n",
    "#             print(\"지금 자식 노드:\", childnode)\n",
    "#             if count> 0:\n",
    "#                 findchildnode(x,childnode, H)\n",
    "#     count-=1            \n",
    "    \n",
    "#     childList.append(childnode)\n",
    "    \n",
    "    \n",
    "        #print(\"f\") #몇번 반복하는 지 알수 있어\n",
    "        #여기에서 자식노드를 찾아\n",
    "        \n",
    "        #print(cij.child)\n",
    "    count-=1\n",
    "\n",
    "    if count>0: #더 순회해야할할 하위 레벨이 있으면 \n",
    "        for childnode in cij.children: #그 레벨의 자식노드들의 각각을 반복하며\n",
    "            childnodeList= LocationCollecting(x,childnode,H) #하위 레벨의 자식노드들을 반환하고\n",
    "            for cn in childnodeList: #childList 배열에 넣어준다.\n",
    "                childList.append(cn) \n",
    "            \n",
    "    if count== 0: #더 순회해야할 레벨이 없으면\n",
    "        for childnode in cij.children: #바로 childList 배열에 넣어준다.\n",
    "            childList.append(childnode)\n",
    "    \n",
    "    \n",
    "    #print(childList)\n",
    "        \n",
    "        \n",
    "    return childList"
   ]
  },
  {
   "cell_type": "markdown",
   "metadata": {},
   "source": [
    "## 한개의 레벨의 cluster들과 loch을 비교하면서 MatrixBuilding 해주는 함수 (Param: 해당 레벨의 클러스터들, Loch)"
   ]
  },
  {
   "cell_type": "code",
   "execution_count": 27,
   "metadata": {},
   "outputs": [],
   "source": [
    "def MatrixBuilding(Ck, loch):\n",
    "    Matrix = np.zeros((len(loch),len(Ck)))\n",
    "    uid=0\n",
    "    for personalLoch in loch: #UserLocation을 반복하면서 여러개의 Staypoint객체 들이 들어 있다.\n",
    "        clusterid = 0\n",
    "        for cluster in Ck: # Ck의 각요소들을 반복하고 cluster는 TreeNode 객체 (여러개의 point의 좌표들이 있다.)\n",
    "            count = 0\n",
    "            \n",
    "            #cluster의 point 좌표 요소들이 UserLocation에 몇개가 있는지 카운팅 . User가 저 클러스터에 몇번갔는지 알수 있다.\n",
    "            #print(cluster.points)\n",
    "            for staypoint in personalLoch.locationhistory:\n",
    "                if [staypoint.latitude, staypoint.longitude] in cluster.points:\n",
    "                    count+=1\n",
    "#             print(uid , clusterid)\n",
    "            Matrix[uid][clusterid] = count\n",
    "            clusterid+=1\n",
    "            #print(count) # Cluster에 유저가 방문한 횟수\n",
    "        uid+=1\n",
    "#     print(Matrix)\n",
    "    \n",
    "    return Matrix\n",
    "            \n",
    "#             for pointcoordinate in cluster.points:\n",
    "                \n",
    "#                 print(pointcoordinate)\n",
    "#                 if pointcoordinate in \n",
    "        #personalLoch.locationhistory\n",
    "#     print(Ck)\n",
    "#     print(loch)\n",
    "    "
   ]
  },
  {
   "cell_type": "markdown",
   "metadata": {},
   "source": [
    "## Authority점수, Hub점수를 구하고 plot을 뿌려주는 HITS Algorithm  함수(param: Matrix, 해당 cluster들의 레벨)"
   ]
  },
  {
   "cell_type": "code",
   "execution_count": 28,
   "metadata": {},
   "outputs": [],
   "source": [
    "def HITSInference(A,dlevel):\n",
    "#     print(A) #Matrix 정보\n",
    "    hubnum= A.shape[0]\n",
    "#     print(hubnum) #유저 수\n",
    "    authnum=A.shape[1]\n",
    "#     print(authnum) #지역 수\n",
    "    a = np.ones(authnum)\n",
    "    h = np.ones(hubnum)\n",
    "#     print(a)\n",
    "#     print(h)\n",
    "#     print(n)\n",
    "    Au= np.dot(np.transpose(A),A)\n",
    "#     print(Au)\n",
    "    Hu = np.dot(A,np.transpose(A))\n",
    "#     print(Hu)\n",
    "#     print(a.T,h.T)\n",
    "    for j in range(5):\n",
    "        a = np.dot(Au,a.T)\n",
    "        a= a/sum(a)\n",
    "        h = np.dot(Hu,h)\n",
    "        h = h/ sum(h)\n",
    "#     print(a) #authority점수\n",
    "#     print(h) #hub점수\n",
    "    \n",
    "    alabel =[]\n",
    "    for i in range(0,authnum):\n",
    "        alabel.append(\"Cluster\"+str(dlevel)+str(i))  #authority score x축 CLuster 지역 Label 만들기\n",
    "#     print(alabel)\n",
    "    hlabel = np.arange(hubnum)  #hub score x축 User id Label 만들기\n",
    "#     print(hlabel)\n",
    "    aindex = np.arange(len(alabel))\n",
    "    hindex = np.arange(len(hlabel))\n",
    "    plt.bar(aindex, a)\n",
    "    plt.xlabel('Cluster', fontsize=5)\n",
    "    plt.ylabel('Authority Score', fontsize=5)\n",
    "    plt.xticks(aindex, alabel, fontsize=5, rotation=30)\n",
    "    plt.title('Authority Score')\n",
    "    plt.show()\n",
    "    \n",
    "    \n",
    "    plt.bar(hindex, h)\n",
    "    plt.xlabel('User', fontsize=5)\n",
    "    plt.ylabel('Hub Score ', fontsize=5)\n",
    "    plt.xticks(hindex, hlabel, fontsize=5, rotation=30)\n",
    "    plt.title('Hub Scores ')\n",
    "    plt.show()\n",
    "    \n",
    "    return a,h"
   ]
  },
  {
   "cell_type": "markdown",
   "metadata": {},
   "source": [
    "## Cluster -> Cluster 를 visit한 Count 구하는 함수 (Param:해당 레벨의 간선, 클러스터)"
   ]
  },
  {
   "cell_type": "code",
   "execution_count": 29,
   "metadata": {},
   "outputs": [],
   "source": [
    "def getVisitCount(perlevelGraphedge,C):\n",
    "    \n",
    "    VisitCount=np.zeros((len(C),len(C))) #i가 기준 클러스터, j 가 연결된 클러스터 카운팅 배열\n",
    "#     for cluster in C:\n",
    "# #         print(cluster)\n",
    "#         if cluster in perlevelGraphedge.keys(): #해당 클러스터와 연결된 클러스터가 있으면 출력\n",
    "            \n",
    "#             print(perlevelGraphedge[cluster])\n",
    "            \n",
    "    for i in range(len(C)): # 기준 클러스터i 인덱스를 반복하면서\n",
    "#         print(C[i])\n",
    "        if C[i] in perlevelGraphedge.keys():\n",
    "#             print(perlevelGraphedge[C[i]])\n",
    "            for j in range(len(C)): # 연결 클러스터 j도 반복하면서 해당 j가 있는지 확인\n",
    "                for connectnode in perlevelGraphedge[C[i]]: #  연결된 클러스터 노드배열들을 반복하면서\n",
    "#                     print(connectnode)\n",
    "                    if C[j] == connectnode: #있을 때마다\n",
    "#                         print(\"C\",i,\"->C\",j)\n",
    "#                         print(C[i],C[j])\n",
    "                        VisitCount[i][j]+=1\n",
    "#                     있을 때마다 카운팅을 올려야한다.\n",
    "#     print(\"Ci -> Cj 방문 횟수\")\n",
    "#     print(VisitCount)\n",
    "    \n",
    "    return VisitCount"
   ]
  },
  {
   "cell_type": "markdown",
   "metadata": {},
   "source": [
    "## IN & OUT 확률probability 함수(Param : 방문횟수 Matrix)"
   ]
  },
  {
   "cell_type": "code",
   "execution_count": 30,
   "metadata": {},
   "outputs": [],
   "source": [
    "def InOutProbability(countmatrix):\n",
    "#     print(countmatrix)\n",
    "    In = np.zeros(countmatrix.shape)\n",
    "    Out = np.zeros(countmatrix.shape)\n",
    "    SumOut = np.zeros(countmatrix.shape[0])\n",
    "    SumIn = np.zeros(countmatrix.shape[0])\n",
    "#     print(In)\n",
    "#     print(Out)\n",
    "    #VisitCount[i][j] 함수를 돌면서 i는 고정 j를 반복하면서 j로 나가는 카운트 총 sum\n",
    "    for i in range(len(countmatrix)):\n",
    "#         print(countmatrix[i])\n",
    "        for j in range(len(countmatrix[i])):\n",
    "#             print(countmatrix[i][j])\n",
    "            SumOut[i]+= countmatrix[i][j]\n",
    "    for j in range(len(countmatrix)):\n",
    "        for i in range(len(countmatrix[j])):\n",
    "            SumIn[j]+=countmatrix[i][j]\n",
    "            \n",
    "#     print(SumOut)\n",
    "#     print(SumIn)\n",
    "    \n",
    "    for i in range(len(countmatrix)):\n",
    "        for j in range(len(countmatrix[i])):\n",
    "            Out[i][j] = countmatrix[i][j]/SumOut[i]\n",
    "    for j in range(len(countmatrix)):\n",
    "        for i in range(len(countmatrix[j])):\n",
    "            In[i][j]= countmatrix[i][j]/SumIn[j]\n",
    "#     print(Out) # Out ij 확률\n",
    "#     print(In) # In ij 확률\n",
    "            #i->j로 가는\n",
    "    # 그중의 있는 것들을 Out[i][j]에 각각 카운트/Sum 해주기\n",
    "    #VisitCount[i][j] 함수를 돌면서 j는 고정 i를 반복하면서 j로 들어가는 카운트 총 sum\n",
    "    # 그중의 ij의 카운트만 카운트/Sum 해주기\n",
    "    \n",
    "    \n",
    "    \n",
    "    return Out, In"
   ]
  },
  {
   "cell_type": "markdown",
   "metadata": {},
   "source": [
    "## Sequence 의 Score를 계산하는 함수(Param: Out,In,auth,hub점수,경로를 간 유저의 카운트)"
   ]
  },
  {
   "cell_type": "code",
   "execution_count": 31,
   "metadata": {},
   "outputs": [],
   "source": [
    "def ComputeSequenceScore(outmatrix, inmatrix,auth,hub,userhubCountList):\n",
    "    ScoreSequence = np.zeros(outmatrix.shape)\n",
    "#     print(userhubCountList) # hubcount[유저번호][클러스터i][클러스터j] : 해당 유저의 i->j로 간 횟수\n",
    "#     print(auth)\n",
    "#     print(hub)\n",
    "    \n",
    "        \n",
    "    for i in range(len(outmatrix)): #클러스터 수 \n",
    "#         print(auth[i]) # C i 의 authscore\n",
    "        \n",
    "        for j in range(len(outmatrix)): #클러스터 수 \n",
    "#             print(auth[j]) # Cj의 authscore\n",
    "#             print(outmatrix[i][j])\n",
    "#             print(inmatrix[i][j])\n",
    "            \n",
    "            \n",
    "            Sumauthscore = len(hub)*(auth[i]*outmatrix[i][j] + auth[j]*inmatrix[i][j])\n",
    "#             print(\"Sumauthscore\", Sumauthscore)\n",
    "            Sumhubscore = 0\n",
    "            for uid in range(len(hub)):\n",
    "                \n",
    "#                 print(\"유저\", uid)\n",
    "#                 print(\"유저가 C\",i,\"->C\",j,\"로 간 카운트:\",userhubCountList[uid][i][j])\n",
    "                Sumhubscore += userhubCountList[uid][i][j] * hub[uid]\n",
    "#             print(\"SUmhubscore\",Sumhubscore)\n",
    "            Score=Sumauthscore + Sumhubscore\n",
    "#             print(\"Score\",Score)\n",
    "            \n",
    "            ScoreSequence[i][j]= Score\n",
    "#     print(ScoreSequence)\n",
    "    \n",
    "    return ScoreSequence\n",
    "    "
   ]
  },
  {
   "cell_type": "markdown",
   "metadata": {},
   "source": [
    "## Mining Travel Sequences함수 - 모든 구역 크기에 대해서 Travel Sequence 구하기"
   ]
  },
  {
   "cell_type": "code",
   "execution_count": 32,
   "metadata": {},
   "outputs": [],
   "source": [
    "def MiningTravelSequences(TBHG,C,auth,hub,dlevel,usercountCtoCList):\n",
    "    Clusteri = 0 #최고의 경로의 클러스터 i\n",
    "    Clusterj = 0 #최고의 경로의 연결된 클러스터 j\n",
    "#     print(TBHG[1][dlevel-1].edge)#해당 레벨에 맞는 간선 데이터. 없는 경우도 있어.\n",
    "    perlevelGraphedge = TBHG[1][dlevel-1].edge\n",
    "#     print(C) #해당 레벨의 클러스터들 \n",
    "\n",
    "    VisitCount = getVisitCount(perlevelGraphedge,C) #해당 Location안의 cluster->cluster 방문횟수 구하는 함수\n",
    "    Out,In = InOutProbability(VisitCount)   #구한 방문횟수 행렬로 In & Out 확률 을 구하는 함수\n",
    "    SequenceScoreList=ComputeSequenceScore(Out,In,auth,hub,usercountCtoCList[dlevel-1]) #Sequence의 score를 계산하는 함수. 모든 경로의 점수가 들어있따.\n",
    "    #해당 구역에 관해서 가장 많이 가는 경로를 추천\n",
    "#     print(SequenceScoreList)\n",
    "    BestScore = -1\n",
    "    for i in range(len(SequenceScoreList)):\n",
    "                   for j in range(len(SequenceScoreList)) :\n",
    "                           if not np.isnan(SequenceScoreList[i][j]): #Nan값이 있는것도 있다.\n",
    "                               if SequenceScoreList[i][j] > BestScore:\n",
    "                                BestScore = SequenceScoreList[i][j]\n",
    "                                Clusteri=i\n",
    "                                Clusterj=j\n",
    "#     print(BestScore)\n",
    "#     print(Clusteri)\n",
    "#     print(Clusterj)\n",
    "                       \n",
    "    return BestScore , Clusteri, Clusterj"
   ]
  },
  {
   "cell_type": "markdown",
   "metadata": {},
   "source": [
    "# --------------------------------------------------------------------------------------------------------- "
   ]
  },
  {
   "cell_type": "markdown",
   "metadata": {},
   "source": [
    "# 메인 실행\n",
    "## Location History Modeling\n",
    "- 모든 유저들의 Location History 객체 배열 생성"
   ]
  },
  {
   "cell_type": "code",
   "execution_count": 33,
   "metadata": {
    "scrolled": true
   },
   "outputs": [
    {
     "name": "stdout",
     "output_type": "stream",
     "text": [
      "해당 폴더안의 읽을 폴더들어 있습니다.\n",
      "C:\\Users\\IBK\\Desktop\\\\DataMining\\Geolife Trajectories 1.3\\Data\\000 읽기\n",
      "GPS LOG -> Trajectory success!\n",
      "Trajectory -> Staypoints success!\n",
      "0 번째 유저의 staypoint 합치기 success!\n",
      "[<__main__.UserLocationHistory object at 0x00000202948EAE48>]\n",
      "0 번째 유저의 location history 합치기 success!\n",
      "C:\\Users\\IBK\\Desktop\\\\DataMining\\Geolife Trajectories 1.3\\Data\\001 읽기\n",
      "GPS LOG -> Trajectory success!\n",
      "Trajectory -> Staypoints success!\n",
      "1 번째 유저의 staypoint 합치기 success!\n",
      "[<__main__.UserLocationHistory object at 0x00000202948EAE48>, <__main__.UserLocationHistory object at 0x00000202920D4358>]\n",
      "1 번째 유저의 location history 합치기 success!\n",
      "C:\\Users\\IBK\\Desktop\\\\DataMining\\Geolife Trajectories 1.3\\Data\\002 읽기\n",
      "GPS LOG -> Trajectory success!\n",
      "Trajectory -> Staypoints success!\n",
      "2 번째 유저의 staypoint 합치기 success!\n",
      "[<__main__.UserLocationHistory object at 0x00000202948EAE48>, <__main__.UserLocationHistory object at 0x00000202920D4358>, <__main__.UserLocationHistory object at 0x00000202960B3240>]\n",
      "2 번째 유저의 location history 합치기 success!\n",
      "C:\\Users\\IBK\\Desktop\\\\DataMining\\Geolife Trajectories 1.3\\Data\\003 읽기\n",
      "GPS LOG -> Trajectory success!\n",
      "Trajectory -> Staypoints success!\n",
      "3 번째 유저의 staypoint 합치기 success!\n",
      "[<__main__.UserLocationHistory object at 0x00000202948EAE48>, <__main__.UserLocationHistory object at 0x00000202920D4358>, <__main__.UserLocationHistory object at 0x00000202960B3240>, <__main__.UserLocationHistory object at 0x0000020294B9CC18>]\n",
      "3 번째 유저의 location history 합치기 success!\n",
      "C:\\Users\\IBK\\Desktop\\\\DataMining\\Geolife Trajectories 1.3\\Data\\004 읽기\n",
      "GPS LOG -> Trajectory success!\n",
      "Trajectory -> Staypoints success!\n",
      "4 번째 유저의 staypoint 합치기 success!\n",
      "[<__main__.UserLocationHistory object at 0x00000202948EAE48>, <__main__.UserLocationHistory object at 0x00000202920D4358>, <__main__.UserLocationHistory object at 0x00000202960B3240>, <__main__.UserLocationHistory object at 0x0000020294B9CC18>, <__main__.UserLocationHistory object at 0x0000020294782CC0>]\n",
      "4 번째 유저의 location history 합치기 success!\n"
     ]
    }
   ],
   "source": [
    "a , sp = getLocationHistory(dir, 200, 20 * 60) #Location History 얻어 오기 함수"
   ]
  },
  {
   "cell_type": "code",
   "execution_count": 34,
   "metadata": {},
   "outputs": [
    {
     "name": "stdout",
     "output_type": "stream",
     "text": [
      "<__main__.UserLocationHistory object at 0x00000202948EAE48>\n",
      "<__main__.UserLocationHistory object at 0x00000202920D4358>\n",
      "<__main__.UserLocationHistory object at 0x00000202960B3240>\n",
      "<__main__.UserLocationHistory object at 0x0000020294B9CC18>\n",
      "<__main__.UserLocationHistory object at 0x0000020294782CC0>\n"
     ]
    }
   ],
   "source": [
    "#유저들의 LocationHistory \n",
    "for aa in a:\n",
    "    print(aa) "
   ]
  },
  {
   "cell_type": "markdown",
   "metadata": {},
   "source": [
    "## Location History 파일 만들기\n",
    "- 폴더에 location history 객체 배열의 pkl파일이 만들어진다."
   ]
  },
  {
   "cell_type": "code",
   "execution_count": 35,
   "metadata": {},
   "outputs": [],
   "source": [
    "cPickle.dump(a, open(\"LocHistory.pkl\", \"wb\"))"
   ]
  },
  {
   "cell_type": "markdown",
   "metadata": {},
   "source": [
    "## Hierarchical Clustering 하기\n"
   ]
  },
  {
   "cell_type": "code",
   "execution_count": 36,
   "metadata": {
    "scrolled": false
   },
   "outputs": [
    {
     "name": "stdout",
     "output_type": "stream",
     "text": [
      "전체 유저의 staypoint 개수 1675\n",
      "전체 유저의 총 staypoint matrix 생성 success!\n",
      "OPTICS 알고리즘 적용 success!\n",
      "Root Node에 자식,부모 멤버변수 설정 success!\n"
     ]
    },
    {
     "data": {
      "image/png": "[encoded data removed]",
      "text/plain": [
       "<Figure size 432x288 with 1 Axes>"
      ]
     },
     "metadata": {
      "needs_background": "light"
     },
     "output_type": "display_data"
    }
   ],
   "source": [
    "H = HierarchicalClustering(sp)"
   ]
  },
  {
   "cell_type": "markdown",
   "metadata": {},
   "source": [
    "## Graph Building 하기"
   ]
  },
  {
   "cell_type": "markdown",
   "metadata": {},
   "source": [
    "## Test"
   ]
  },
  {
   "cell_type": "code",
   "execution_count": 37,
   "metadata": {},
   "outputs": [
    {
     "name": "stdout",
     "output_type": "stream",
     "text": [
      "Level1 Cluster: <__main__.TreeNode object at 0x00000202920B6208>\n",
      "Level2 Cluster: <__main__.TreeNode object at 0x00000202A07FC278>\n",
      "Level2 Cluster: <__main__.TreeNode object at 0x00000202A07FC208>\n",
      "Level2 Cluster: <__main__.TreeNode object at 0x00000202A07FC160>\n",
      "Level2 Cluster: <__main__.TreeNode object at 0x00000202A07F9FD0>\n",
      "Level2 Cluster: <__main__.TreeNode object at 0x00000202A07F9E80>\n",
      "Level2 Cluster: <__main__.TreeNode object at 0x00000202A07F9940>\n",
      "Level2 Cluster: <__main__.TreeNode object at 0x00000202A07F9668>\n",
      "Level2 Cluster: <__main__.TreeNode object at 0x00000202A07F95C0>\n",
      "Level2 Cluster: <__main__.TreeNode object at 0x00000202A07F9550>\n",
      "Level3 Cluster 없음\n",
      "Level3 Cluster 없음\n",
      "Level3 Cluster 없음\n",
      "Level3 Cluster 없음\n",
      "Level3 Cluster: <__main__.TreeNode object at 0x00000202A07FC390>\n",
      "Level3 Cluster 없음\n",
      "Level3 Cluster 없음\n",
      "Level3 Cluster 없음\n",
      "Level3 Cluster: <__main__.TreeNode object at 0x00000202A07FC198>\n",
      "Level3 Cluster: <__main__.TreeNode object at 0x00000202A07FC240>\n"
     ]
    }
   ],
   "source": [
    "print(\"Level1 Cluster:\" ,H)\n",
    "\n",
    "if len(H.children)<1:\n",
    "    print(\"Level2 Cluster 없음\")\n",
    "else:\n",
    "    for h in H.children:\n",
    "        print(\"Level2 Cluster:\", h)\n",
    "        \n",
    "for h in H.children:\n",
    "    if len(h.children)<1:\n",
    "        print(\"Level3 Cluster 없음\")\n",
    "    else:\n",
    "        for h_c in h.children:\n",
    "            print(\"Level3 Cluster:\", h_c)"
   ]
  },
  {
   "cell_type": "markdown",
   "metadata": {},
   "source": [
    "## Hierarchy graph 를 Array형태로 변환하는 함수 (level을 얻기 쉬움)"
   ]
  },
  {
   "cell_type": "code",
   "execution_count": 38,
   "metadata": {},
   "outputs": [],
   "source": [
    "def getArray(node, num, arr):\n",
    "    if node is not None:\n",
    "        if len(arr) <= num:\n",
    "            arr.append([])\n",
    "        try:\n",
    "            arr[num].append(node)\n",
    "        except:\n",
    "            arr[num] = []\n",
    "            arr[num].append(node)\n",
    "        for n in node.children:\n",
    "            getArray(n, num + 1, arr)\n",
    "        return arr\n",
    "    else:\n",
    "        return arr\n",
    "    "
   ]
  },
  {
   "cell_type": "markdown",
   "metadata": {},
   "source": [
    "## TBHG 구하기"
   ]
  },
  {
   "cell_type": "code",
   "execution_count": 39,
   "metadata": {},
   "outputs": [
    {
     "name": "stdout",
     "output_type": "stream",
     "text": [
      "0 유저의 location history 정보\n",
      "0 유저의 location history 정보를 가지고 그래프에 간선 추가 연결 success!\n",
      "1 유저의 location history 정보\n",
      "1 유저의 location history 정보를 가지고 그래프에 간선 추가 연결 success!\n",
      "2 유저의 location history 정보\n",
      "2 유저의 location history 정보를 가지고 그래프에 간선 추가 연결 success!\n",
      "3 유저의 location history 정보\n",
      "3 유저의 location history 정보를 가지고 그래프에 간선 추가 연결 success!\n",
      "4 유저의 location history 정보\n",
      "4 유저의 location history 정보를 가지고 그래프에 간선 추가 연결 success!\n",
      "0 유저의 location history 정보\n",
      "0 유저의 location history 정보를 가지고 그래프에 간선 추가 연결 success!\n",
      "1 유저의 location history 정보\n",
      "1 유저의 location history 정보를 가지고 그래프에 간선 추가 연결 success!\n",
      "2 유저의 location history 정보\n",
      "2 유저의 location history 정보를 가지고 그래프에 간선 추가 연결 success!\n",
      "3 유저의 location history 정보\n",
      "3 유저의 location history 정보를 가지고 그래프에 간선 추가 연결 success!\n",
      "4 유저의 location history 정보\n",
      "4 유저의 location history 정보를 가지고 그래프에 간선 추가 연결 success!\n"
     ]
    }
   ],
   "source": [
    "H_array = getArray(H, 0,[0]) #모든 Cluster들을 레벨 별로 배열에 넣기\n",
    "GraphList = [] # 모든 레벨의 그래프들\n",
    "usercountCtoCAllList = []\n",
    "\n",
    "# print(len(os.listdir(dir))) #User 수 \n",
    "# print(a) # LocationHistory 리스트  \n",
    "\n",
    "for level in range(1,len(H_array)): # 각 레벨을 반복하면서 (최상위 레벨의 그래프는 접근하지 않는다.간선을 이을필요가없으므로)\n",
    "    #Graph = [] # 한개 래벨의 그래프 배열에 만들어서 넣어야하나\n",
    "    #Graph.append(H_array[level])# 각 레벨에 있는 cluster node들을 Graph에 넣고\n",
    "    #print(Graph)\n",
    "    usercountCtoCList = [] #\n",
    "    pgraph = perLevelGraph() # 각 그래프 객체에 cluster, edge를 넣어야하나.\n",
    "    pgraph.cluster = H_array[level]\n",
    "#     print(pgraph.cluster)\n",
    "#     print(pgraph.edge)\n",
    "    for uid in range(len(os.listdir(dir))): #각 그래프를 유저의수만큼 반복하면서\n",
    "#         print(uid) # 각 유저의 번호\n",
    "#         print(uid,\"번째의 location history:\", a[uid].locationhistory) #각 유저의 LocH\n",
    "        print(uid , \"유저의 location history 정보\")\n",
    "        g ,usercountCtoC =GraphBuilding(pgraph, a[uid], len(os.listdir(dir)), uid) #** 여기서 각 유저의 그래프에 대한 간선이 모두 들어간 그래프와 클러스터i->클러스터j를 어떤 유저가 갔는지에 대한 배열이 나와야한다\n",
    "        print(uid , \"유저의 location history 정보를 가지고 그래프에 간선 추가 연결 success!\")\n",
    "#         print(g.edge)\n",
    "#         print(usercountCtoC)\n",
    "        usercountCtoCList.append(usercountCtoC)\n",
    "    GraphList.append(g) #  한레벨의 graph의 모든 유저의 연속된 staypoint객체 간선의 정보를 가진 그래프를 추가.\n",
    "#     print(GraphList)\n",
    "    usercountCtoCAllList.append(usercountCtoCList)\n",
    "# print(usercountCtoCAllList) #모든 유저들의 Ci -> Cj 카운트 \n",
    "TBHG = (H,GraphList)\n",
    "#print(TBHG)\n",
    "# 그 다음 매트릭스를 만들기 위한 각 유저들이 클러스터를 몇번 방문했는지 정보는 아직 .. 어디서 구하지?"
   ]
  },
  {
   "cell_type": "markdown",
   "metadata": {},
   "source": [
    "## Location Interest Inference 하기"
   ]
  },
  {
   "cell_type": "code",
   "execution_count": 56,
   "metadata": {},
   "outputs": [
    {
     "name": "stdout",
     "output_type": "stream",
     "text": [
      "i:  0 j: 0\n"
     ]
    },
    {
     "data": {
      "image/png": "[encoded data removed]",
      "text/plain": [
       "<Figure size 432x288 with 1 Axes>"
      ]
     },
     "metadata": {
      "needs_background": "light"
     },
     "output_type": "display_data"
    },
    {
     "data": {
      "image/png": "[encoded data removed]",
      "text/plain": [
       "<Figure size 432x288 with 1 Axes>"
      ]
     },
     "metadata": {
      "needs_background": "light"
     },
     "output_type": "display_data"
    },
    {
     "name": "stderr",
     "output_type": "stream",
     "text": [
      "C:\\Users\\IBK\\Anaconda3\\lib\\site-packages\\ipykernel_launcher.py:24: RuntimeWarning: invalid value encountered in double_scalars\n"
     ]
    },
    {
     "name": "stdout",
     "output_type": "stream",
     "text": [
      "0 - 0 level 기준  1  단계level의 구역에서의 가장 경험많은 유저는 User 4 이며 hub점수는 0.4773360929366469  이고,가장 흥미로운 지역은 Cluster 10 이며, authority 점수는 0.8761881608100907  이고, 추천경로는 Cluster 13 에서 Cluster 10  입니다.\n",
      "i:  0 j: 0\n"
     ]
    },
    {
     "data": {
      "image/png": "[encoded data removed]",
      "text/plain": [
       "<Figure size 432x288 with 1 Axes>"
      ]
     },
     "metadata": {
      "needs_background": "light"
     },
     "output_type": "display_data"
    },
    {
     "data": {
      "image/png": "[encoded data removed]",
      "text/plain": [
       "<Figure size 432x288 with 1 Axes>"
      ]
     },
     "metadata": {
      "needs_background": "light"
     },
     "output_type": "display_data"
    },
    {
     "name": "stdout",
     "output_type": "stream",
     "text": [
      "0 - 0 level 기준  2  단계level의 구역에서의 가장 경험많은 유저는 User 2 이며 hub점수는 0.9947009623791612  이고,가장 흥미로운 지역은 Cluster 20 이며, authority 점수는 0.9933369235420405  이고, 추천경로는 없습니다.\n",
      "i:  1 j: 4\n"
     ]
    },
    {
     "name": "stderr",
     "output_type": "stream",
     "text": [
      "C:\\Users\\IBK\\Anaconda3\\lib\\site-packages\\ipykernel_launcher.py:27: RuntimeWarning: invalid value encountered in double_scalars\n"
     ]
    },
    {
     "data": {
      "image/png": "[encoded data removed]",
      "text/plain": [
       "<Figure size 432x288 with 1 Axes>"
      ]
     },
     "metadata": {
      "needs_background": "light"
     },
     "output_type": "display_data"
    },
    {
     "data": {
      "image/png": "[encoded data removed]",
      "text/plain": [
       "<Figure size 432x288 with 1 Axes>"
      ]
     },
     "metadata": {
      "needs_background": "light"
     },
     "output_type": "display_data"
    },
    {
     "name": "stdout",
     "output_type": "stream",
     "text": [
      "1 - 4 level 기준  2  단계level의 구역에서의 가장 경험많은 유저는 User 2 이며 hub점수는 1.0  이고,가장 흥미로운 지역은 Cluster 20 이며, authority 점수는 1.0  이고, 추천경로는 없습니다.\n",
      "i:  1 j: 8\n"
     ]
    },
    {
     "data": {
      "image/png": "[encoded data removed]",
      "text/plain": [
       "<Figure size 432x288 with 1 Axes>"
      ]
     },
     "metadata": {
      "needs_background": "light"
     },
     "output_type": "display_data"
    },
    {
     "data": {
      "image/png": "[encoded data removed]",
      "text/plain": [
       "<Figure size 432x288 with 1 Axes>"
      ]
     },
     "metadata": {
      "needs_background": "light"
     },
     "output_type": "display_data"
    },
    {
     "name": "stdout",
     "output_type": "stream",
     "text": [
      "1 - 8 level 기준  2  단계level의 구역에서의 가장 경험많은 유저는 User 3 이며 hub점수는 0.9226089996461037  이고,가장 흥미로운 지역은 Cluster 20 이며, authority 점수는 0.7988866656303463  이고, 추천경로는 없습니다.\n"
     ]
    }
   ],
   "source": [
    "hubList = []\n",
    "authList = []\n",
    "\n",
    "#len(H_array[1])\n",
    "\n",
    "for level in range(0,len(H_array)-1):  #각 level을 반복하면서\n",
    "#     print(\"Level: \" , level)\n",
    "    for cnum in range(0,len(H_array[level])): # for each cluster on this level\n",
    "#         print(H_array[level][cnum]) # 각 레벨의 각 클러스터 \n",
    "        for dlevel in range(level+1, len(H_array)):\n",
    "#             print(\"i: \", level, \"j:\", cnum) # 해당구역 레벨을 포함하는 전체 덩어리\n",
    "#             print(\"x\", dlevel) #해당 구역 레벨\n",
    "            C = LocationCollecting(dlevel, H_array[level][cnum], H_array) # # cij에 대해서 x 레벨에 있는 자식 노드들을 정하는 것\n",
    "#             print(C) #하위 자식노드가 없으면 HITS 추론 하지말아야함 \n",
    "            if len(C)>0:\n",
    "                print(\"i: \", level, \"j:\", cnum)\n",
    "#                 print(\"x\", dlevel)\n",
    "                M=MatrixBuilding(C, a) #각 레벨의 클러스터들과 유저들의 Loch를 비교하면서, Matrix 생성\n",
    "    #             print(M)\n",
    "                auth,hub = HITSInference(M,dlevel)\n",
    "                #최고 hub 유저, auth 지역 찾기\n",
    "                maxhubscore = -1\n",
    "                maxauthscore = -1\n",
    "                maxhubindex = 0\n",
    "                maxauthindex = 0 \n",
    "                for i in range(len(auth)):\n",
    "                    if auth[i] > maxauthscore:\n",
    "                        maxauthscore=auth[i]\n",
    "                        maxauthindex=i\n",
    "                for i in range(len(hub)):\n",
    "                    if hub[i] > maxhubscore:\n",
    "                        maxhubscore=hub[i]\n",
    "                        maxhubindex=i        \n",
    "    #             print(auth,hub)\n",
    "                #여기에서 추천경로 구하기\n",
    "                if len(C)>0:\n",
    "                    bestscore, ci, cj = MiningTravelSequences(TBHG,C,auth,hub,dlevel,usercountCtoCAllList)#\n",
    "                    if ci==0 and cj==0:\n",
    "                        print(level,\"-\",cnum,\"level 기준 \",dlevel,\" 단계level의 구역에서의 가장 경험많은 유저는 User\",maxhubindex,\"이며 hub점수는\",maxhubscore,\" 이고,가장 흥미로운 지역은 Cluster\",str(dlevel)+str(maxauthindex), \"이며, authority 점수는\", maxauthscore,\" 이고, 추천경로는 없습니다.\")\n",
    "                    else:\n",
    "                        print(level,\"-\",cnum,\"level 기준 \",dlevel,\" 단계level의 구역에서의 가장 경험많은 유저는 User\",maxhubindex,\"이며 hub점수는\",maxhubscore,\" 이고,가장 흥미로운 지역은 Cluster\",str(dlevel)+str(maxauthindex), \"이며, authority 점수는\", maxauthscore,\" 이고, 추천경로는 Cluster\",str(dlevel)+str(ci),\"에서 Cluster\",str(dlevel)+str(cj),\" 입니다.\")\n",
    "                       \n",
    "                authList.append(auth)\n",
    "                hubList.append(hub)\n",
    "                \n",
    "            #여기에서 해당 location의 추천 경로를 찾아야한다.\n",
    "            \n",
    "# print(authList) #모든 user에 대한 모든 지역의 auth점수들\n",
    "# print(hubList) #모든 유저들의 지역에 대한 hub점수"
   ]
  },
  {
   "cell_type": "markdown",
   "metadata": {},
   "source": [
    "# Mining Classical Travel Sequences 하기"
   ]
  },
  {
   "cell_type": "code",
   "execution_count": 41,
   "metadata": {},
   "outputs": [
    {
     "name": "stdout",
     "output_type": "stream",
     "text": [
      "{<__main__.TreeNode object at 0x00000202A07FC160>: [<__main__.TreeNode object at 0x00000202A07FC278>, <__main__.TreeNode object at 0x00000202A07FC278>, <__main__.TreeNode object at 0x00000202A07FC208>, <__main__.TreeNode object at 0x00000202A07FC208>, <__main__.TreeNode object at 0x00000202A07FC208>, <__main__.TreeNode object at 0x00000202A07FC208>, <__main__.TreeNode object at 0x00000202A07F9E80>, <__main__.TreeNode object at 0x00000202A07FC208>, <__main__.TreeNode object at 0x00000202A07FC208>, <__main__.TreeNode object at 0x00000202A07F95C0>, <__main__.TreeNode object at 0x00000202A07F9E80>, <__main__.TreeNode object at 0x00000202A07FC278>, <__main__.TreeNode object at 0x00000202A07FC278>, <__main__.TreeNode object at 0x00000202A07FC278>, <__main__.TreeNode object at 0x00000202A07FC278>, <__main__.TreeNode object at 0x00000202A07FC278>, <__main__.TreeNode object at 0x00000202A07FC278>, <__main__.TreeNode object at 0x00000202A07FC278>, <__main__.TreeNode object at 0x00000202A07FC278>, <__main__.TreeNode object at 0x00000202A07FC278>, <__main__.TreeNode object at 0x00000202A07FC278>, <__main__.TreeNode object at 0x00000202A07FC278>], <__main__.TreeNode object at 0x00000202A07FC278>: [<__main__.TreeNode object at 0x00000202A07F9940>, <__main__.TreeNode object at 0x00000202A07F9940>, <__main__.TreeNode object at 0x00000202A07FC160>, <__main__.TreeNode object at 0x00000202A07F9E80>, <__main__.TreeNode object at 0x00000202A07F9550>, <__main__.TreeNode object at 0x00000202A07F9550>, <__main__.TreeNode object at 0x00000202A07FC208>, <__main__.TreeNode object at 0x00000202A07FC208>, <__main__.TreeNode object at 0x00000202A07FC160>, <__main__.TreeNode object at 0x00000202A07FC160>, <__main__.TreeNode object at 0x00000202A07FC160>, <__main__.TreeNode object at 0x00000202A07F9E80>, <__main__.TreeNode object at 0x00000202A07F9E80>, <__main__.TreeNode object at 0x00000202A07F9940>, <__main__.TreeNode object at 0x00000202A07F9940>, <__main__.TreeNode object at 0x00000202A07F9E80>, <__main__.TreeNode object at 0x00000202A07FC160>, <__main__.TreeNode object at 0x00000202A07FC160>, <__main__.TreeNode object at 0x00000202A07F9550>, <__main__.TreeNode object at 0x00000202A07FC208>, <__main__.TreeNode object at 0x00000202A07F9E80>, <__main__.TreeNode object at 0x00000202A07F9E80>, <__main__.TreeNode object at 0x00000202A07F9FD0>, <__main__.TreeNode object at 0x00000202A07F9940>, <__main__.TreeNode object at 0x00000202A07F9940>, <__main__.TreeNode object at 0x00000202A07FC160>, <__main__.TreeNode object at 0x00000202A07F9E80>, <__main__.TreeNode object at 0x00000202A07F9550>, <__main__.TreeNode object at 0x00000202A07F9550>, <__main__.TreeNode object at 0x00000202A07FC160>, <__main__.TreeNode object at 0x00000202A07FC208>, <__main__.TreeNode object at 0x00000202A07F9E80>, <__main__.TreeNode object at 0x00000202A07F9940>, <__main__.TreeNode object at 0x00000202A07F9E80>, <__main__.TreeNode object at 0x00000202A07FC160>, <__main__.TreeNode object at 0x00000202A07FC160>, <__main__.TreeNode object at 0x00000202A07F9FD0>, <__main__.TreeNode object at 0x00000202A07F9668>, <__main__.TreeNode object at 0x00000202A07F9940>, <__main__.TreeNode object at 0x00000202A07F9FD0>, <__main__.TreeNode object at 0x00000202A07F9FD0>, <__main__.TreeNode object at 0x00000202A07F9940>, <__main__.TreeNode object at 0x00000202A07F9940>, <__main__.TreeNode object at 0x00000202A07F9940>, <__main__.TreeNode object at 0x00000202A07F9940>, <__main__.TreeNode object at 0x00000202A07FC160>, <__main__.TreeNode object at 0x00000202A07FC160>, <__main__.TreeNode object at 0x00000202A07F9FD0>, <__main__.TreeNode object at 0x00000202A07F9FD0>, <__main__.TreeNode object at 0x00000202A07F9FD0>, <__main__.TreeNode object at 0x00000202A07F9FD0>, <__main__.TreeNode object at 0x00000202A07F9550>, <__main__.TreeNode object at 0x00000202A07F9FD0>, <__main__.TreeNode object at 0x00000202A07F9FD0>, <__main__.TreeNode object at 0x00000202A07F9FD0>, <__main__.TreeNode object at 0x00000202A07FC160>, <__main__.TreeNode object at 0x00000202A07F9FD0>, <__main__.TreeNode object at 0x00000202A07F9FD0>], <__main__.TreeNode object at 0x00000202A07F9940>: [<__main__.TreeNode object at 0x00000202A07FC278>, <__main__.TreeNode object at 0x00000202A07FC278>, <__main__.TreeNode object at 0x00000202A07F9E80>, <__main__.TreeNode object at 0x00000202A07FC278>, <__main__.TreeNode object at 0x00000202A07FC278>, <__main__.TreeNode object at 0x00000202A07FC278>, <__main__.TreeNode object at 0x00000202A07FC278>, <__main__.TreeNode object at 0x00000202A07FC278>, <__main__.TreeNode object at 0x00000202A07FC278>, <__main__.TreeNode object at 0x00000202A07FC278>, <__main__.TreeNode object at 0x00000202A07FC278>, <__main__.TreeNode object at 0x00000202A07FC278>, <__main__.TreeNode object at 0x00000202A07FC278>], <__main__.TreeNode object at 0x00000202A07F9E80>: [<__main__.TreeNode object at 0x00000202A07FC278>, <__main__.TreeNode object at 0x00000202A07FC160>, <__main__.TreeNode object at 0x00000202A07F9940>, <__main__.TreeNode object at 0x00000202A07FC160>, <__main__.TreeNode object at 0x00000202A07FC278>, <__main__.TreeNode object at 0x00000202A07FC278>, <__main__.TreeNode object at 0x00000202A07FC278>, <__main__.TreeNode object at 0x00000202A07FC278>, <__main__.TreeNode object at 0x00000202A07FC278>, <__main__.TreeNode object at 0x00000202A07FC278>, <__main__.TreeNode object at 0x00000202A07FC278>, <__main__.TreeNode object at 0x00000202A07FC278>, <__main__.TreeNode object at 0x00000202A07FC278>, <__main__.TreeNode object at 0x00000202A07FC278>, <__main__.TreeNode object at 0x00000202A07FC278>], <__main__.TreeNode object at 0x00000202A07F9550>: [<__main__.TreeNode object at 0x00000202A07FC278>, <__main__.TreeNode object at 0x00000202A07FC278>, <__main__.TreeNode object at 0x00000202A07FC278>, <__main__.TreeNode object at 0x00000202A07FC278>, <__main__.TreeNode object at 0x00000202A07FC278>, <__main__.TreeNode object at 0x00000202A07FC278>], <__main__.TreeNode object at 0x00000202A07F9FD0>: [<__main__.TreeNode object at 0x00000202A07FC278>, <__main__.TreeNode object at 0x00000202A07FC278>, <__main__.TreeNode object at 0x00000202A07FC278>, <__main__.TreeNode object at 0x00000202A07FC278>, <__main__.TreeNode object at 0x00000202A07FC278>, <__main__.TreeNode object at 0x00000202A07FC278>, <__main__.TreeNode object at 0x00000202A07FC278>, <__main__.TreeNode object at 0x00000202A07FC278>, <__main__.TreeNode object at 0x00000202A07FC278>, <__main__.TreeNode object at 0x00000202A07FC278>, <__main__.TreeNode object at 0x00000202A07FC278>, <__main__.TreeNode object at 0x00000202A07FC278>, <__main__.TreeNode object at 0x00000202A07FC278>, <__main__.TreeNode object at 0x00000202A07FC278>, <__main__.TreeNode object at 0x00000202A07FC278>, <__main__.TreeNode object at 0x00000202A07FC278>, <__main__.TreeNode object at 0x00000202A07F9E80>, <__main__.TreeNode object at 0x00000202A07F9E80>], <__main__.TreeNode object at 0x00000202A07FC208>: [<__main__.TreeNode object at 0x00000202A07FC160>, <__main__.TreeNode object at 0x00000202A07FC160>, <__main__.TreeNode object at 0x00000202A07FC160>, <__main__.TreeNode object at 0x00000202A07FC160>, <__main__.TreeNode object at 0x00000202A07FC278>, <__main__.TreeNode object at 0x00000202A07FC160>, <__main__.TreeNode object at 0x00000202A07FC278>, <__main__.TreeNode object at 0x00000202A07FC160>, <__main__.TreeNode object at 0x00000202A07FC278>], <__main__.TreeNode object at 0x00000202A07F9668>: [<__main__.TreeNode object at 0x00000202A07FC278>]}\n"
     ]
    }
   ],
   "source": [
    "#간선 정보  \n",
    "print(TBHG[1][0].edge)"
   ]
  },
  {
   "cell_type": "markdown",
   "metadata": {},
   "source": [
    "## TEST ==============================================================="
   ]
  },
  {
   "cell_type": "markdown",
   "metadata": {},
   "source": [
    "## LocationCollecting Test (상대적인 하위레벨 노드 반환하기)"
   ]
  },
  {
   "cell_type": "code",
   "execution_count": 42,
   "metadata": {
    "scrolled": false
   },
   "outputs": [
    {
     "name": "stdout",
     "output_type": "stream",
     "text": [
      "i:  0 j: 0\n",
      "x 1\n",
      "[<__main__.Tree object at 0x000002029DB8B208>, <__main__.Tree object at 0x000002029DB8B320>]\n",
      "i:  0 j: 0\n",
      "x 2\n",
      "[<__main__.Tree object at 0x000002029DB8B358>, <__main__.Tree object at 0x000002029DB8B390>, <__main__.Tree object at 0x000002029DB8B3C8>, <__main__.Tree object at 0x000002029DB8B400>, <__main__.Tree object at 0x000002029DB8B438>]\n",
      "i:  0 j: 0\n",
      "x 3\n",
      "[<__main__.Tree object at 0x000002029DB8B470>, <__main__.Tree object at 0x000002029DB8B4A8>, <__main__.Tree object at 0x000002029DB8B4E0>, <__main__.Tree object at 0x000002029DB8B518>]\n",
      "i:  1 j: 0\n",
      "x 2\n",
      "[<__main__.Tree object at 0x000002029DB8B358>, <__main__.Tree object at 0x000002029DB8B390>]\n",
      "i:  1 j: 0\n",
      "x 3\n",
      "[<__main__.Tree object at 0x000002029DB8B470>, <__main__.Tree object at 0x000002029DB8B4A8>, <__main__.Tree object at 0x000002029DB8B4E0>]\n",
      "i:  1 j: 1\n",
      "x 2\n",
      "[<__main__.Tree object at 0x000002029DB8B3C8>, <__main__.Tree object at 0x000002029DB8B400>, <__main__.Tree object at 0x000002029DB8B438>]\n",
      "i:  1 j: 1\n",
      "x 3\n",
      "[<__main__.Tree object at 0x000002029DB8B518>]\n",
      "i:  2 j: 0\n",
      "x 3\n",
      "[<__main__.Tree object at 0x000002029DB8B470>]\n",
      "i:  2 j: 1\n",
      "x 3\n",
      "[<__main__.Tree object at 0x000002029DB8B4A8>, <__main__.Tree object at 0x000002029DB8B4E0>]\n",
      "i:  2 j: 2\n",
      "x 3\n",
      "[]\n",
      "i:  2 j: 3\n",
      "x 3\n",
      "[<__main__.Tree object at 0x000002029DB8B518>]\n",
      "i:  2 j: 4\n",
      "x 3\n",
      "[]\n"
     ]
    }
   ],
   "source": [
    "#LocationCollecting Test\n",
    "class Tree(object):\n",
    "    def __init__(self):\n",
    "        self.data = None\n",
    "        self.child = []\n",
    "    \n",
    "root = Tree()\n",
    "root.data=\"C00\"\n",
    "\n",
    "C11=Tree()\n",
    "C11.data=\"C11\"\n",
    "\n",
    "C12=Tree()\n",
    "C12.data=\"C12\"\n",
    "\n",
    "C21=Tree()\n",
    "C21.data=\"C21\"\n",
    "C22=Tree()\n",
    "C22.data=\"C22\"\n",
    "C23=Tree()\n",
    "C23.data=\"C23\"\n",
    "C24=Tree()\n",
    "C24.data=\"C24\"\n",
    "C25=Tree()\n",
    "C25.data=\"C25\"\n",
    "C31=Tree()\n",
    "C31.data=\"C31\"\n",
    "C32=Tree()\n",
    "C32.data=\"C32\"\n",
    "C33=Tree()\n",
    "C33.data=\"C33\"\n",
    "C34=Tree()\n",
    "C34.data=\"C34\"\n",
    "\n",
    "\n",
    "root.child=[C11,C12]\n",
    "C11.child=[C21,C22]\n",
    "C12.child=[C23,C24,C25]\n",
    "C21.child=[C31]\n",
    "C22.child=[C32,C33]\n",
    "C24.child=[C34]\n",
    "array =[[root],[C11,C12],[C21,C22,C23,C24,C25],[C31,C32,C33,C34]]\n",
    "\n",
    "\n",
    "\n",
    "def findchildnode(x,cij, H):\n",
    "    childList = []\n",
    "    #cij의 level 찾기\n",
    "    for level in range(0,len(H)):\n",
    "        #print(level)\n",
    "        if cij in H[level]:\n",
    "#             print(level ,\"여기있어\")\n",
    "            count= x-level # 해당노드에서 특정 레벨까지의 degree\n",
    "            break\n",
    "#     print(\"count 값:\", count)\n",
    "    \n",
    "    \n",
    "#     for childnode in cij.child:\n",
    "#             print(\"지금 자식 노드:\", childnode)\n",
    "#             if count> 0:\n",
    "#                 findchildnode(x,childnode, H)\n",
    "#     count-=1            \n",
    "    \n",
    "#     childList.append(childnode)\n",
    "    \n",
    "    \n",
    "        #print(\"f\") #몇번 반복하는 지 알수 있어\n",
    "        #여기에서 자식노드를 찾아\n",
    "        \n",
    "        #print(cij.child)\n",
    "    count-=1\n",
    "\n",
    "    if count>0: #더 순회해야할할 하위 레벨이 있으면 \n",
    "        for childnode in cij.child: #그 레벨의 자식노드들의 각각을 반복하며\n",
    "            childnodeList= findchildnode(x,childnode,H) #하위 레벨의 자식노드들을 반환하고\n",
    "            for cn in childnodeList: #childList 배열에 넣어준다.\n",
    "                childList.append(cn) \n",
    "            \n",
    "    if count== 0: #더 순회해야할 레벨이 없으면\n",
    "        for childnode in cij.child: #바로 childList 배열에 넣어준다.\n",
    "            childList.append(childnode)\n",
    "    \n",
    "    \n",
    "    #print(childList)\n",
    "        \n",
    "        \n",
    "    return childList\n",
    "\n",
    "\n",
    "for level in range(0, len(array)-1):\n",
    "#     print(\"Level: \" , level)\n",
    "    for cnum in range(0,len(array[level])): # for each cluster on this level\n",
    "#        0 print(array[level][cnum]) # 각 레벨의 각 클러스터 \n",
    "        for dlevel in range(level+1, len(array)):\n",
    "            print(\"i: \", level, \"j:\", cnum)\n",
    "            print(\"x\", dlevel)\n",
    "            C = findchildnode(dlevel, array[level][cnum], array) \n",
    "            print(C)\n",
    "  "
   ]
  },
  {
   "cell_type": "markdown",
   "metadata": {},
   "source": [
    "## HITS Test "
   ]
  },
  {
   "cell_type": "code",
   "execution_count": 43,
   "metadata": {},
   "outputs": [
    {
     "name": "stdout",
     "output_type": "stream",
     "text": [
      "[[  0 193  13   6   3   4]\n",
      " [ 20   2   1  25   0   0]\n",
      " [  0   0   0   2  41  10]]\n",
      "3\n",
      "6\n",
      "[0.00136967 0.8774731  0.05916366 0.02903155 0.01455505 0.01840696]\n",
      "[0.98040366 0.01476993 0.00482641]\n",
      "['Cluster10', 'Cluster11', 'Cluster12', 'Cluster13', 'Cluster14', 'Cluster15']\n",
      "[0 1 2]\n"
     ]
    },
    {
     "data": {
      "image/png": "[encoded data removed]",
      "text/plain": [
       "<Figure size 432x288 with 1 Axes>"
      ]
     },
     "metadata": {
      "needs_background": "light"
     },
     "output_type": "display_data"
    },
    {
     "data": {
      "image/png": "[encoded data removed]",
      "text/plain": [
       "<Figure size 432x288 with 1 Axes>"
      ]
     },
     "metadata": {
      "needs_background": "light"
     },
     "output_type": "display_data"
    }
   ],
   "source": [
    "def hits(A,dlevel):\n",
    "    print(A) #Matrix 정보\n",
    "    hubnum= A.shape[0]\n",
    "    print(hubnum) #유저 수\n",
    "    authnum=A.shape[1]\n",
    "    print(authnum) #지역 수\n",
    "    a = np.ones(authnum)\n",
    "    h = np.ones(hubnum)\n",
    "#     print(a)\n",
    "#     print(h)\n",
    "#     print(n)\n",
    "    Au= np.dot(np.transpose(A),A)\n",
    "#     print(Au)\n",
    "    Hu = np.dot(A,np.transpose(A))\n",
    "#     print(Hu)\n",
    "#     print(a.T,h.T)\n",
    "    for j in range(5):\n",
    "        a = np.dot(Au,a.T)\n",
    "        a= a/sum(a)\n",
    "        h = np.dot(Hu,h)\n",
    "        h = h/ sum(h)\n",
    "    print(a) #authority점수\n",
    "    print(h) #hub점수\n",
    "    \n",
    "    alabel =[]\n",
    "    for i in range(0,authnum):\n",
    "        alabel.append(\"Cluster\"+str(dlevel)+str(i))  #authority score x축 CLuster 지역 Label 만들기\n",
    "    print(alabel)\n",
    "    hlabel = np.arange(hubnum)  #hub score x축 User id Label 만들기\n",
    "    print(hlabel)\n",
    "    aindex = np.arange(len(alabel))\n",
    "    hindex = np.arange(len(hlabel))\n",
    "    plt.bar(aindex, a)\n",
    "    plt.xlabel('Cluster', fontsize=5)\n",
    "    plt.ylabel('Authority Score', fontsize=5)\n",
    "    plt.xticks(aindex, alabel, fontsize=5, rotation=30)\n",
    "    plt.title('Authority Score')\n",
    "    plt.show()\n",
    "    \n",
    "    \n",
    "    plt.bar(hindex, h)\n",
    "    plt.xlabel('User', fontsize=5)\n",
    "    plt.ylabel('Hub Score ', fontsize=5)\n",
    "    plt.xticks(hindex, hlabel, fontsize=5, rotation=30)\n",
    "    plt.title('Hub Scores ')\n",
    "    plt.show()\n",
    "    \n",
    "    \n",
    "M=[[0,193,13,6,3,4],[20,2,1,25,0,0],[0,0,0,2,41,10]]    \n",
    "M = np.array(M)\n",
    "\n",
    "hits(M,1)"
   ]
  },
  {
   "cell_type": "markdown",
   "metadata": {},
   "source": [
    "## Connect Node,Count using dict Test"
   ]
  },
  {
   "cell_type": "code",
   "execution_count": 44,
   "metadata": {},
   "outputs": [
    {
     "data": {
      "text/plain": [
       "3"
      ]
     },
     "execution_count": 44,
     "metadata": {},
     "output_type": "execute_result"
    }
   ],
   "source": [
    "# class perLevelGraph(object): \n",
    "#     def __init__(self): # \n",
    "#         self.cluster = 0\n",
    "#         self.edge = {\n",
    "#                      } #간선의 구조를 해당노드:[연결된 노드,카운트]\n",
    "        \n",
    "#     # 간선을 이어주는 함수( 현재노드, 이어질 노드)\n",
    "    \n",
    "#     count =1\n",
    "#     def addEdge(self,node,neighbour):\n",
    "#         if node not in self.edge:\n",
    "#             self.edge[node]=[neighbour]\n",
    "# #             self.edge[node]['connectcount']=1\n",
    "           \n",
    "#         else:\n",
    "# #             self.edge[node]['connectcount']+=1\n",
    "#             if neighbour not in self.edge[node]: #이미 안에 중복인 연결이 있으면 하지 않기 . 클러스터->클러스터 count를 해야하면, 여기서 하기\n",
    "                \n",
    "#                 self.edge[node].append(neighbour)\n",
    "                \n",
    "\n",
    "edge = {\"1번노드\":[\"2번\",\"3번\",\"4번\",\"4번\",\"4번\"]}\n",
    "\n",
    "list(set(edge[\"1번노드\"]))\n",
    "count=0\n",
    "for value in edge[\"1번노드\"]:\n",
    "    if value==\"4번\":\n",
    "        count+=1\n",
    "        \n",
    "count #다넣고 그냥, 이걸로가자\n",
    "    \n",
    "\n",
    "\n",
    "# print(edge[\"1번노드\"])\n",
    "# print(edge[\"1번노드\"][0]) #iteration돌아야하겠찌.\n",
    "# print(edge[\"1번노드\"][0][\"연결노드\"]) #추가해줘야함\n",
    "# print(edge[\"1번노드\"][0][\"연결횟수\"]+1) #++1\n",
    "\n",
    "# print(edge[\"2번노드\"])\n",
    "\n",
    "# print(edge\n",
    "    \n"
   ]
  },
  {
   "cell_type": "code",
   "execution_count": 45,
   "metadata": {},
   "outputs": [
    {
     "data": {
      "text/plain": [
       "array([[[0., 0., 0., 0., 0., 0.],\n",
       "        [0., 0., 0., 0., 0., 0.],\n",
       "        [0., 0., 0., 0., 0., 0.],\n",
       "        [0., 0., 0., 0., 0., 0.],\n",
       "        [0., 0., 0., 0., 0., 0.],\n",
       "        [0., 0., 0., 0., 0., 0.]],\n",
       "\n",
       "       [[0., 0., 0., 0., 0., 0.],\n",
       "        [0., 0., 0., 0., 0., 0.],\n",
       "        [0., 0., 0., 0., 0., 0.],\n",
       "        [0., 0., 0., 0., 0., 0.],\n",
       "        [0., 0., 0., 0., 0., 0.],\n",
       "        [0., 0., 0., 0., 0., 0.]],\n",
       "\n",
       "       [[0., 0., 0., 0., 0., 0.],\n",
       "        [0., 0., 0., 0., 0., 0.],\n",
       "        [0., 0., 0., 0., 0., 0.],\n",
       "        [0., 0., 0., 0., 0., 0.],\n",
       "        [0., 0., 0., 0., 0., 0.],\n",
       "        [0., 0., 0., 0., 0., 0.]]])"
      ]
     },
     "execution_count": 45,
     "metadata": {},
     "output_type": "execute_result"
    }
   ],
   "source": [
    "usercountCtoC= np.zeros((3,6,6))\n",
    "usercountCtoC"
   ]
  }
 ],
 "metadata": {
  "kernelspec": {
   "display_name": "Python 3",
   "language": "python",
   "name": "python3"
  },
  "language_info": {
   "codemirror_mode": {
    "name": "ipython",
    "version": 3
   },
   "file_extension": ".py",
   "mimetype": "text/x-python",
   "name": "python",
   "nbconvert_exporter": "python",
   "pygments_lexer": "ipython3",
   "version": "3.7.1"
  }
 },
 "nbformat": 4,
 "nbformat_minor": 2
}
